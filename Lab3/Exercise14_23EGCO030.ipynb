{
 "cells": [
  {
   "cell_type": "code",
   "execution_count": 1,
   "id": "fef1e20f",
   "metadata": {},
   "outputs": [],
   "source": [
    "import numpy as np"
   ]
  },
  {
   "cell_type": "code",
   "execution_count": 2,
   "id": "9a7e2e07",
   "metadata": {},
   "outputs": [],
   "source": [
    "temps_array = np.array([22.5, 25.0, 19.8, 30.2, 28.1])"
   ]
  },
  {
   "cell_type": "markdown",
   "id": "d47bbf8b",
   "metadata": {},
   "source": [
    "1."
   ]
  },
  {
   "cell_type": "code",
   "execution_count": 3,
   "id": "e27574e9",
   "metadata": {},
   "outputs": [
    {
     "data": {
      "text/plain": [
       "(5,)"
      ]
     },
     "execution_count": 3,
     "metadata": {},
     "output_type": "execute_result"
    }
   ],
   "source": [
    "np.shape(temps_array)"
   ]
  },
  {
   "cell_type": "markdown",
   "id": "13bf5721",
   "metadata": {},
   "source": [
    "2."
   ]
  },
  {
   "cell_type": "code",
   "execution_count": 4,
   "id": "59601b89",
   "metadata": {},
   "outputs": [
    {
     "data": {
      "text/plain": [
       "np.float64(25.119999999999997)"
      ]
     },
     "execution_count": 4,
     "metadata": {},
     "output_type": "execute_result"
    }
   ],
   "source": [
    "np.mean(temps_array)"
   ]
  },
  {
   "cell_type": "markdown",
   "id": "df6590f3",
   "metadata": {},
   "source": [
    "3."
   ]
  },
  {
   "cell_type": "code",
   "execution_count": 7,
   "id": "ef9cd03f",
   "metadata": {},
   "outputs": [
    {
     "data": {
      "text/plain": [
       "np.int64(2)"
      ]
     },
     "execution_count": 7,
     "metadata": {},
     "output_type": "execute_result"
    }
   ],
   "source": [
    "np.sum(temps_array > 25)"
   ]
  },
  {
   "cell_type": "markdown",
   "id": "2d0704f0",
   "metadata": {},
   "source": [
    "4."
   ]
  },
  {
   "cell_type": "code",
   "execution_count": 6,
   "id": "5bfd350e",
   "metadata": {},
   "outputs": [
    {
     "data": {
      "text/plain": [
       "np.float64(30.2)"
      ]
     },
     "execution_count": 6,
     "metadata": {},
     "output_type": "execute_result"
    }
   ],
   "source": [
    "np.max(temps_array)"
   ]
  },
  {
   "cell_type": "markdown",
   "id": "b990cf71",
   "metadata": {},
   "source": [
    "5."
   ]
  },
  {
   "cell_type": "code",
   "execution_count": 8,
   "id": "ef90526c",
   "metadata": {},
   "outputs": [
    {
     "data": {
      "text/plain": [
       "np.int64(4)"
      ]
     },
     "execution_count": 8,
     "metadata": {},
     "output_type": "execute_result"
    }
   ],
   "source": [
    "np.sum(temps_array >= 20)"
   ]
  },
  {
   "cell_type": "markdown",
   "id": "373fb500",
   "metadata": {},
   "source": [
    "6."
   ]
  },
  {
   "cell_type": "code",
   "execution_count": 9,
   "id": "962968a4",
   "metadata": {},
   "outputs": [
    {
     "data": {
      "text/plain": [
       "np.float64(3.738127873682226)"
      ]
     },
     "execution_count": 9,
     "metadata": {},
     "output_type": "execute_result"
    }
   ],
   "source": [
    "np.std(temps_array)"
   ]
  },
  {
   "cell_type": "markdown",
   "id": "85160608",
   "metadata": {},
   "source": [
    "7."
   ]
  },
  {
   "cell_type": "code",
   "execution_count": 12,
   "id": "9570d0f5",
   "metadata": {},
   "outputs": [
    {
     "data": {
      "text/plain": [
       "np.float64(19.8)"
      ]
     },
     "execution_count": 12,
     "metadata": {},
     "output_type": "execute_result"
    }
   ],
   "source": [
    "np.min(temps_array)"
   ]
  },
  {
   "cell_type": "markdown",
   "id": "e7333310",
   "metadata": {},
   "source": [
    "8."
   ]
  },
  {
   "cell_type": "code",
   "execution_count": 11,
   "id": "0c1316b3",
   "metadata": {},
   "outputs": [
    {
     "data": {
      "text/plain": [
       "np.int64(1)"
      ]
     },
     "execution_count": 11,
     "metadata": {},
     "output_type": "execute_result"
    }
   ],
   "source": [
    "np.sum(temps_array == 25.0)"
   ]
  },
  {
   "cell_type": "markdown",
   "id": "461d91c4",
   "metadata": {},
   "source": [
    "9."
   ]
  },
  {
   "cell_type": "code",
   "execution_count": 10,
   "id": "a4ede465",
   "metadata": {},
   "outputs": [
    {
     "data": {
      "text/plain": [
       "np.float64(25.0)"
      ]
     },
     "execution_count": 10,
     "metadata": {},
     "output_type": "execute_result"
    }
   ],
   "source": [
    "np.median(temps_array)"
   ]
  },
  {
   "cell_type": "markdown",
   "id": "854ab340",
   "metadata": {},
   "source": []
  },
  {
   "cell_type": "markdown",
   "id": "cce82b99",
   "metadata": {},
   "source": [
    "10."
   ]
  },
  {
   "cell_type": "code",
   "execution_count": 16,
   "id": "3f5b5949",
   "metadata": {},
   "outputs": [
    {
     "data": {
      "text/plain": [
       "np.int64(2)"
      ]
     },
     "execution_count": 16,
     "metadata": {},
     "output_type": "execute_result"
    }
   ],
   "source": [
    "np.sum(temps_array > 28)"
   ]
  },
  {
   "cell_type": "markdown",
   "id": "5e5241d8",
   "metadata": {},
   "source": [
    "11."
   ]
  },
  {
   "cell_type": "code",
   "execution_count": 15,
   "id": "03f4d02d",
   "metadata": {},
   "outputs": [
    {
     "data": {
      "text/plain": [
       "np.float64(125.6)"
      ]
     },
     "execution_count": 15,
     "metadata": {},
     "output_type": "execute_result"
    }
   ],
   "source": [
    "np.sum(temps_array)"
   ]
  },
  {
   "cell_type": "markdown",
   "id": "73f85485",
   "metadata": {},
   "source": [
    "12."
   ]
  },
  {
   "cell_type": "code",
   "execution_count": 14,
   "id": "8f13cc3d",
   "metadata": {},
   "outputs": [
    {
     "data": {
      "text/plain": [
       "np.int64(1)"
      ]
     },
     "execution_count": 14,
     "metadata": {},
     "output_type": "execute_result"
    }
   ],
   "source": [
    "np.sum(temps_array < 22) "
   ]
  },
  {
   "cell_type": "markdown",
   "id": "818041eb",
   "metadata": {},
   "source": [
    "13."
   ]
  },
  {
   "cell_type": "code",
   "execution_count": 13,
   "id": "d7850bd6",
   "metadata": {},
   "outputs": [
    {
     "data": {
      "text/plain": [
       "np.float64(27.119999999999997)"
      ]
     },
     "execution_count": 13,
     "metadata": {},
     "output_type": "execute_result"
    }
   ],
   "source": [
    "np.mean(temps_array + 2) "
   ]
  },
  {
   "cell_type": "markdown",
   "id": "efdb1ac7",
   "metadata": {},
   "source": [
    "14."
   ]
  },
  {
   "cell_type": "code",
   "execution_count": 21,
   "id": "99692a96",
   "metadata": {},
   "outputs": [
    {
     "data": {
      "text/plain": [
       "np.int64(3)"
      ]
     },
     "execution_count": 21,
     "metadata": {},
     "output_type": "execute_result"
    }
   ],
   "source": [
    "np.sum(temps_array > 24)  "
   ]
  },
  {
   "cell_type": "markdown",
   "id": "5e514c3f",
   "metadata": {},
   "source": [
    "15."
   ]
  },
  {
   "cell_type": "code",
   "execution_count": 20,
   "id": "79e536d4",
   "metadata": {},
   "outputs": [
    {
     "data": {
      "text/plain": [
       "np.float64(13.9736)"
      ]
     },
     "execution_count": 20,
     "metadata": {},
     "output_type": "execute_result"
    }
   ],
   "source": [
    "np.var(temps_array) "
   ]
  },
  {
   "cell_type": "markdown",
   "id": "a42832f3",
   "metadata": {},
   "source": [
    "16."
   ]
  },
  {
   "cell_type": "code",
   "execution_count": 19,
   "id": "2dd0cd0d",
   "metadata": {},
   "outputs": [
    {
     "data": {
      "text/plain": [
       "(array([0, 1]),)"
      ]
     },
     "execution_count": 19,
     "metadata": {},
     "output_type": "execute_result"
    }
   ],
   "source": [
    "np.where((temps_array >= 20) & (temps_array <= 25))"
   ]
  },
  {
   "cell_type": "markdown",
   "id": "86511d12",
   "metadata": {},
   "source": [
    "17."
   ]
  },
  {
   "cell_type": "code",
   "execution_count": 18,
   "id": "aeb9fb4e",
   "metadata": {},
   "outputs": [
    {
     "data": {
      "text/plain": [
       "np.float64(28.1)"
      ]
     },
     "execution_count": 18,
     "metadata": {},
     "output_type": "execute_result"
    }
   ],
   "source": [
    "np.percentile(temps_array, 75) "
   ]
  },
  {
   "cell_type": "markdown",
   "id": "a6074cdb",
   "metadata": {},
   "source": [
    "18."
   ]
  },
  {
   "cell_type": "code",
   "execution_count": 17,
   "id": "91045b85",
   "metadata": {},
   "outputs": [
    {
     "data": {
      "text/plain": [
       "np.int64(2)"
      ]
     },
     "execution_count": 17,
     "metadata": {},
     "output_type": "execute_result"
    }
   ],
   "source": [
    "np.sum(temps_array > 26)"
   ]
  },
  {
   "cell_type": "markdown",
   "id": "4721b35e",
   "metadata": {},
   "source": [
    "19."
   ]
  },
  {
   "cell_type": "code",
   "execution_count": 22,
   "id": "2538bbb0",
   "metadata": {},
   "outputs": [
    {
     "data": {
      "text/plain": [
       "np.float64(14.8)"
      ]
     },
     "execution_count": 22,
     "metadata": {},
     "output_type": "execute_result"
    }
   ],
   "source": [
    "np.min(temps_array - 5)"
   ]
  },
  {
   "cell_type": "markdown",
   "id": "34f11210",
   "metadata": {},
   "source": [
    "20."
   ]
  },
  {
   "cell_type": "code",
   "execution_count": 23,
   "id": "1599ad4f",
   "metadata": {},
   "outputs": [
    {
     "data": {
      "text/plain": [
       "np.int64(1)"
      ]
     },
     "execution_count": 23,
     "metadata": {},
     "output_type": "execute_result"
    }
   ],
   "source": [
    "np.sum(temps_array == 30.2)"
   ]
  },
  {
   "cell_type": "markdown",
   "id": "5666e473",
   "metadata": {},
   "source": [
    "SCENARIO 2\n"
   ]
  },
  {
   "cell_type": "code",
   "execution_count": 24,
   "id": "d0458c77",
   "metadata": {},
   "outputs": [],
   "source": [
    "sales_array = np.array([[100, 120, 90, 110], [80, 85, 95, 100], [150, 130, 140, 135]])"
   ]
  },
  {
   "cell_type": "markdown",
   "id": "cf77588e",
   "metadata": {},
   "source": [
    "1."
   ]
  },
  {
   "cell_type": "code",
   "execution_count": 25,
   "id": "d174123c",
   "metadata": {},
   "outputs": [
    {
     "data": {
      "text/plain": [
       "(3, 4)"
      ]
     },
     "execution_count": 25,
     "metadata": {},
     "output_type": "execute_result"
    }
   ],
   "source": [
    "np.shape(sales_array)"
   ]
  },
  {
   "cell_type": "markdown",
   "id": "584bc94e",
   "metadata": {},
   "source": [
    "2."
   ]
  },
  {
   "cell_type": "code",
   "execution_count": 26,
   "id": "648de7eb",
   "metadata": {},
   "outputs": [
    {
     "data": {
      "text/plain": [
       "np.float64(105.0)"
      ]
     },
     "execution_count": 26,
     "metadata": {},
     "output_type": "execute_result"
    }
   ],
   "source": [
    "np.mean(sales_array[0])"
   ]
  },
  {
   "cell_type": "markdown",
   "id": "d1f3a4c1",
   "metadata": {},
   "source": [
    "3."
   ]
  },
  {
   "cell_type": "code",
   "execution_count": null,
   "id": "0f56b5b4",
   "metadata": {},
   "outputs": [
    {
     "data": {
      "text/plain": [
       "np.int64(6)"
      ]
     },
     "execution_count": 33,
     "metadata": {},
     "output_type": "execute_result"
    }
   ],
   "source": [
    "np.sum(sales_array > 100)\n"
   ]
  },
  {
   "cell_type": "markdown",
   "id": "273ef0e4",
   "metadata": {},
   "source": [
    "4."
   ]
  },
  {
   "cell_type": "code",
   "execution_count": 32,
   "id": "c1f4194a",
   "metadata": {},
   "outputs": [
    {
     "data": {
      "text/plain": [
       "np.int64(670)"
      ]
     },
     "execution_count": 32,
     "metadata": {},
     "output_type": "execute_result"
    }
   ],
   "source": [
    "np.sum(sales_array[:, -2:])"
   ]
  },
  {
   "cell_type": "markdown",
   "id": "3154182e",
   "metadata": {},
   "source": [
    "5."
   ]
  },
  {
   "cell_type": "code",
   "execution_count": 31,
   "id": "d2495d23",
   "metadata": {},
   "outputs": [
    {
     "data": {
      "text/plain": [
       "np.int64(0)"
      ]
     },
     "execution_count": 31,
     "metadata": {},
     "output_type": "execute_result"
    }
   ],
   "source": [
    "np.sum(sales_array[1] > 120)"
   ]
  },
  {
   "cell_type": "markdown",
   "id": "6ac07858",
   "metadata": {},
   "source": [
    "6."
   ]
  },
  {
   "cell_type": "code",
   "execution_count": 30,
   "id": "e45a605b",
   "metadata": {},
   "outputs": [
    {
     "data": {
      "text/plain": [
       "np.int64(150)"
      ]
     },
     "execution_count": 30,
     "metadata": {},
     "output_type": "execute_result"
    }
   ],
   "source": [
    "np.max(sales_array) "
   ]
  },
  {
   "cell_type": "markdown",
   "id": "86ce8d9b",
   "metadata": {},
   "source": [
    "7."
   ]
  },
  {
   "cell_type": "code",
   "execution_count": 29,
   "id": "9ed2ea63",
   "metadata": {},
   "outputs": [
    {
     "data": {
      "text/plain": [
       "np.float64(29.43920288775949)"
      ]
     },
     "execution_count": 29,
     "metadata": {},
     "output_type": "execute_result"
    }
   ],
   "source": [
    "np.std(sales_array[:, 0]) "
   ]
  },
  {
   "cell_type": "markdown",
   "id": "eeeeae5b",
   "metadata": {},
   "source": [
    "8."
   ]
  },
  {
   "cell_type": "code",
   "execution_count": 28,
   "id": "591fb12a",
   "metadata": {},
   "outputs": [
    {
     "data": {
      "text/plain": [
       "np.int64(2)"
      ]
     },
     "execution_count": 28,
     "metadata": {},
     "output_type": "execute_result"
    }
   ],
   "source": [
    "np.sum(sales_array == 100)  "
   ]
  },
  {
   "cell_type": "markdown",
   "id": "8e11f943",
   "metadata": {},
   "source": [
    "9."
   ]
  },
  {
   "cell_type": "code",
   "execution_count": 39,
   "id": "3baae85d",
   "metadata": {},
   "outputs": [
    {
     "data": {
      "text/plain": [
       "np.float64(90.0)"
      ]
     },
     "execution_count": 39,
     "metadata": {},
     "output_type": "execute_result"
    }
   ],
   "source": [
    "np.median(sales_array[1])"
   ]
  },
  {
   "cell_type": "markdown",
   "id": "4ecb6150",
   "metadata": {},
   "source": [
    "10."
   ]
  },
  {
   "cell_type": "code",
   "execution_count": 38,
   "id": "4640e68a",
   "metadata": {},
   "outputs": [
    {
     "data": {
      "text/plain": [
       "np.int64(4)"
      ]
     },
     "execution_count": 38,
     "metadata": {},
     "output_type": "execute_result"
    }
   ],
   "source": [
    "np.sum(sales_array[1:3] > 100)"
   ]
  },
  {
   "cell_type": "markdown",
   "id": "6d1bcbd4",
   "metadata": {},
   "source": [
    "11."
   ]
  },
  {
   "cell_type": "code",
   "execution_count": 37,
   "id": "279f7e3d",
   "metadata": {},
   "outputs": [
    {
     "data": {
      "text/plain": [
       "np.int64(1335)"
      ]
     },
     "execution_count": 37,
     "metadata": {},
     "output_type": "execute_result"
    }
   ],
   "source": [
    "np.sum(sales_array) "
   ]
  },
  {
   "cell_type": "markdown",
   "id": "13ea72f0",
   "metadata": {},
   "source": [
    "12."
   ]
  },
  {
   "cell_type": "code",
   "execution_count": 36,
   "id": "bff46edb",
   "metadata": {},
   "outputs": [
    {
     "data": {
      "text/plain": [
       "np.int64(2)"
      ]
     },
     "execution_count": 36,
     "metadata": {},
     "output_type": "execute_result"
    }
   ],
   "source": [
    "np.sum(sales_array < 90) "
   ]
  },
  {
   "cell_type": "markdown",
   "id": "da161b0c",
   "metadata": {},
   "source": [
    "13."
   ]
  },
  {
   "cell_type": "code",
   "execution_count": 35,
   "id": "c21a9b60",
   "metadata": {},
   "outputs": [
    {
     "data": {
      "text/plain": [
       "np.float64(111.66666666666667)"
      ]
     },
     "execution_count": 35,
     "metadata": {},
     "output_type": "execute_result"
    }
   ],
   "source": [
    "np.mean(sales_array[:, -2:]) "
   ]
  },
  {
   "cell_type": "markdown",
   "id": "3c5e3e67",
   "metadata": {},
   "source": [
    "14."
   ]
  },
  {
   "cell_type": "code",
   "execution_count": 34,
   "id": "90e668eb",
   "metadata": {},
   "outputs": [
    {
     "data": {
      "text/plain": [
       "np.int64(1)"
      ]
     },
     "execution_count": 34,
     "metadata": {},
     "output_type": "execute_result"
    }
   ],
   "source": [
    "np.sum(sales_array[0] > 110) "
   ]
  },
  {
   "cell_type": "markdown",
   "id": "c0842745",
   "metadata": {},
   "source": [
    "SCENARIO 3"
   ]
  },
  {
   "cell_type": "markdown",
   "id": "7a68b3e1",
   "metadata": {},
   "source": [
    "1."
   ]
  },
  {
   "cell_type": "code",
   "execution_count": 40,
   "id": "e9f47b59",
   "metadata": {},
   "outputs": [
    {
     "data": {
      "text/plain": [
       "array([ 80,  85,  90,  95, 100, 110, 120, 130, 135, 140, 150])"
      ]
     },
     "execution_count": 40,
     "metadata": {},
     "output_type": "execute_result"
    }
   ],
   "source": [
    "np.unique(sales_array)"
   ]
  },
  {
   "cell_type": "markdown",
   "id": "f816bffe",
   "metadata": {},
   "source": [
    "2."
   ]
  },
  {
   "cell_type": "code",
   "execution_count": 41,
   "id": "ef726282",
   "metadata": {},
   "outputs": [
    {
     "data": {
      "text/plain": [
       "(array([2, 2, 2, 2]), array([0, 1, 2, 3]))"
      ]
     },
     "execution_count": 41,
     "metadata": {},
     "output_type": "execute_result"
    }
   ],
   "source": [
    "np.where(sales_array > 120)"
   ]
  },
  {
   "cell_type": "markdown",
   "id": "20242c5c",
   "metadata": {},
   "source": [
    "3."
   ]
  },
  {
   "cell_type": "code",
   "execution_count": 42,
   "id": "a18947bd",
   "metadata": {},
   "outputs": [
    {
     "data": {
      "text/plain": [
       "2"
      ]
     },
     "execution_count": 42,
     "metadata": {},
     "output_type": "execute_result"
    }
   ],
   "source": [
    "len(np.where(temps_array > 25)[0])"
   ]
  },
  {
   "cell_type": "markdown",
   "id": "2dc23fbf",
   "metadata": {},
   "source": [
    "4."
   ]
  },
  {
   "cell_type": "code",
   "execution_count": 49,
   "id": "b7c9ae0a",
   "metadata": {},
   "outputs": [
    {
     "data": {
      "text/plain": [
       "array([19.8, 22.5, 25. , 28.1, 30.2])"
      ]
     },
     "execution_count": 49,
     "metadata": {},
     "output_type": "execute_result"
    }
   ],
   "source": [
    "np.sort(temps_array)\n"
   ]
  },
  {
   "cell_type": "markdown",
   "id": "b518bd78",
   "metadata": {},
   "source": [
    "5."
   ]
  },
  {
   "cell_type": "code",
   "execution_count": 48,
   "id": "e525beb8",
   "metadata": {},
   "outputs": [
    {
     "data": {
      "text/plain": [
       "array([ 4,  5,  2,  6,  0,  7,  3,  1,  9, 11, 10,  8])"
      ]
     },
     "execution_count": 48,
     "metadata": {},
     "output_type": "execute_result"
    }
   ],
   "source": [
    "np.argsort(sales_array.flatten())\n"
   ]
  },
  {
   "cell_type": "markdown",
   "id": "a326ed6c",
   "metadata": {},
   "source": [
    "6."
   ]
  },
  {
   "cell_type": "code",
   "execution_count": 47,
   "id": "bd633a5b",
   "metadata": {},
   "outputs": [
    {
     "data": {
      "text/plain": [
       "6"
      ]
     },
     "execution_count": 47,
     "metadata": {},
     "output_type": "execute_result"
    }
   ],
   "source": [
    "len(np.where(sales_array > 100)[0])\n"
   ]
  },
  {
   "cell_type": "markdown",
   "id": "1f8a55d8",
   "metadata": {},
   "source": [
    "7."
   ]
  },
  {
   "cell_type": "code",
   "execution_count": 46,
   "id": "8f36aa9b",
   "metadata": {},
   "outputs": [
    {
     "data": {
      "text/plain": [
       "array([[22.5],\n",
       "       [25. ],\n",
       "       [19.8],\n",
       "       [30.2],\n",
       "       [28.1]])"
      ]
     },
     "execution_count": 46,
     "metadata": {},
     "output_type": "execute_result"
    }
   ],
   "source": [
    "temps_array.reshape(5, 1)\n"
   ]
  },
  {
   "cell_type": "markdown",
   "id": "562c3bae",
   "metadata": {},
   "source": [
    "8.\n"
   ]
  },
  {
   "cell_type": "code",
   "execution_count": 45,
   "id": "8d5141a0",
   "metadata": {},
   "outputs": [
    {
     "data": {
      "text/plain": [
       "np.int64(9)"
      ]
     },
     "execution_count": 45,
     "metadata": {},
     "output_type": "execute_result"
    }
   ],
   "source": [
    "np.sum(sales_array + 10 > 100)\n"
   ]
  },
  {
   "cell_type": "markdown",
   "id": "95bab228",
   "metadata": {},
   "source": [
    "9."
   ]
  },
  {
   "cell_type": "code",
   "execution_count": 44,
   "id": "6c300bc0",
   "metadata": {},
   "outputs": [
    {
     "data": {
      "text/plain": [
       "array([[10.        , 10.95445115,  9.48683298, 10.48808848],\n",
       "       [ 8.94427191,  9.21954446,  9.74679434, 10.        ],\n",
       "       [12.24744871, 11.40175425, 11.83215957, 11.61895004]])"
      ]
     },
     "execution_count": 44,
     "metadata": {},
     "output_type": "execute_result"
    }
   ],
   "source": [
    "np.sqrt(sales_array)\n"
   ]
  },
  {
   "cell_type": "markdown",
   "id": "28cfc18b",
   "metadata": {},
   "source": [
    "10."
   ]
  },
  {
   "cell_type": "code",
   "execution_count": 43,
   "id": "83d87cb7",
   "metadata": {},
   "outputs": [
    {
     "data": {
      "text/plain": [
       "1"
      ]
     },
     "execution_count": 43,
     "metadata": {},
     "output_type": "execute_result"
    }
   ],
   "source": [
    "len(np.where(sales_array == 110)[0])"
   ]
  },
  {
   "cell_type": "markdown",
   "id": "fc913e90",
   "metadata": {},
   "source": [
    "11."
   ]
  },
  {
   "cell_type": "code",
   "execution_count": 54,
   "id": "ff940d33",
   "metadata": {},
   "outputs": [
    {
     "data": {
      "text/plain": [
       "array([[10000, 14400,  8100, 12100],\n",
       "       [ 6400,  7225,  9025, 10000],\n",
       "       [22500, 16900, 19600, 18225]])"
      ]
     },
     "execution_count": 54,
     "metadata": {},
     "output_type": "execute_result"
    }
   ],
   "source": [
    "np.square(sales_array)\n"
   ]
  },
  {
   "cell_type": "markdown",
   "id": "1027175f",
   "metadata": {},
   "source": [
    "12."
   ]
  },
  {
   "cell_type": "code",
   "execution_count": 53,
   "id": "ee936ac3",
   "metadata": {},
   "outputs": [
    {
     "data": {
      "text/plain": [
       "np.int64(2)"
      ]
     },
     "execution_count": 53,
     "metadata": {},
     "output_type": "execute_result"
    }
   ],
   "source": [
    "threshold = np.percentile(sales_array, 90)\n",
    "np.sum(sales_array > threshold)\n"
   ]
  },
  {
   "cell_type": "markdown",
   "id": "1431471e",
   "metadata": {},
   "source": [
    "13."
   ]
  },
  {
   "cell_type": "code",
   "execution_count": 52,
   "id": "c5915758",
   "metadata": {},
   "outputs": [
    {
     "data": {
      "text/plain": [
       "array([22.5, 25. , 19.8, 30.2, 28.1, 20. , 21. ])"
      ]
     },
     "execution_count": 52,
     "metadata": {},
     "output_type": "execute_result"
    }
   ],
   "source": [
    "np.concatenate((temps_array, np.array([20.0, 21.0])))\n"
   ]
  },
  {
   "cell_type": "markdown",
   "id": "7dfc387f",
   "metadata": {},
   "source": [
    "14."
   ]
  },
  {
   "cell_type": "code",
   "execution_count": 51,
   "id": "9c83e9b5",
   "metadata": {},
   "outputs": [
    {
     "data": {
      "text/plain": [
       "4"
      ]
     },
     "execution_count": 51,
     "metadata": {},
     "output_type": "execute_result"
    }
   ],
   "source": [
    "len(np.where(sales_array >= 130)[0])\n"
   ]
  },
  {
   "cell_type": "markdown",
   "id": "6b318f8e",
   "metadata": {},
   "source": [
    "15."
   ]
  },
  {
   "cell_type": "code",
   "execution_count": 50,
   "id": "a4aee24a",
   "metadata": {},
   "outputs": [
    {
     "data": {
      "text/plain": [
       "np.int64(1275)"
      ]
     },
     "execution_count": 50,
     "metadata": {},
     "output_type": "execute_result"
    }
   ],
   "source": [
    "np.sum(sales_array - 5)\n"
   ]
  }
 ],
 "metadata": {
  "kernelspec": {
   "display_name": "Python 3",
   "language": "python",
   "name": "python3"
  },
  "language_info": {
   "codemirror_mode": {
    "name": "ipython",
    "version": 3
   },
   "file_extension": ".py",
   "mimetype": "text/x-python",
   "name": "python",
   "nbconvert_exporter": "python",
   "pygments_lexer": "ipython3",
   "version": "3.13.3"
  }
 },
 "nbformat": 4,
 "nbformat_minor": 5
}
