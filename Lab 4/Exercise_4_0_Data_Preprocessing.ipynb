{
 "cells": [
  {
   "cell_type": "markdown",
   "id": "0e7084b8",
   "metadata": {},
   "source": [
    "# EXERCISE 4.0 - Data Pre-processing: Cleaning and Preparation\n"
   ]
  },
  {
   "cell_type": "code",
   "execution_count": null,
   "id": "51a8fbec",
   "metadata": {},
   "outputs": [],
   "source": [
    "import pandas as pd\n",
    "import numpy as np\n",
    "import matplotlib.pyplot as plt\n",
    "import seaborn as sns\n",
    "from missingno import missingno\n",
    "\n",
    "# Load the dataset (replace with your actual file path)\n",
    "df = pd.read_csv('datasets/wearable_health_devices_performance_upto_26june2025.csv')\n",
    "df.head()"
   ]
  },
  {
   "cell_type": "markdown",
   "id": "da38e6aa",
   "metadata": {},
   "source": [
    "## (A) DATASET OVERVIEW"
   ]
  },
  {
   "cell_type": "markdown",
   "id": "422c32e1",
   "metadata": {},
   "source": [
    "1. What are the Test_Date, Device_Name, Brand, Category, Price_USD, and User_Satisfaction_Rating for the first 4 samples in the dataset?"
   ]
  },
  {
   "cell_type": "code",
   "execution_count": null,
   "id": "932e4260",
   "metadata": {},
   "outputs": [],
   "source": [
    "df[['Test_Date', 'Device_Name', 'Brand', 'Category', 'Price_USD', 'User_Satisfaction_Rating']].head(4)"
   ]
  },
  {
   "cell_type": "markdown",
   "id": "ebca27e3",
   "metadata": {},
   "source": [
    "2. What are the Test_Date, Device_Name, Brand, Category, Price_USD, and User_Satisfaction_Rating for the last 4 samples in the dataset?"
   ]
  },
  {
   "cell_type": "code",
   "execution_count": null,
   "id": "846326de",
   "metadata": {},
   "outputs": [],
   "source": [
    "df[['Test_Date', 'Device_Name', 'Brand', 'Category', 'Price_USD', 'User_Satisfaction_Rating']].tail(4)"
   ]
  },
  {
   "cell_type": "markdown",
   "id": "3a5dd43d",
   "metadata": {},
   "source": [
    "3. What are the Test_Date, Device_Name, Brand, Category, Price_USD, and User_Satisfaction_Rating for 4 randomly selected samples, using your registration number as the random state?"
   ]
  },
  {
   "cell_type": "code",
   "execution_count": null,
   "id": "c3b04cf7",
   "metadata": {},
   "outputs": [],
   "source": [
    "# Replace 12345 with your registration number\n",
    "df[['Test_Date', 'Device_Name', 'Brand', 'Category', 'Price_USD', 'User_Satisfaction_Rating']].sample(4, random_state=12345)"
   ]
  },
  {
   "cell_type": "markdown",
   "id": "eca3c7d6",
   "metadata": {},
   "source": [
    "4. Standardize all column names to have lowercase characters and replace spaces and dashes with underscores. Provide the code used for standardization. What is the total number of samples, columns, and memory usage of the dataset?"
   ]
  },
  {
   "cell_type": "code",
   "execution_count": null,
   "id": "a68c8b7f",
   "metadata": {},
   "outputs": [],
   "source": [
    "# Standardize column names\n",
    "df.columns = df.columns.str.lower().str.replace(' ', '_').str.replace('-', '_')\n",
    "\n",
    "# Dataset information\n",
    "print(f\"Total samples: {len(df)}\")\n",
    "print(f\"Total columns: {len(df.columns)}\")\n",
    "print(f\"Memory usage: {df.memory_usage(deep=True).sum() / (1024 * 1024):.2f} MB\")"
   ]
  },
  {
   "cell_type": "markdown",
   "id": "5d11f289",
   "metadata": {},
   "source": [
    "5. What is the total number of float64, int64, and object columns in the dataset?"
   ]
  },
  {
   "cell_type": "code",
   "execution_count": null,
   "id": "6d32a14f",
   "metadata": {},
   "outputs": [],
   "source": [
    "print(f\"Float64 columns: {len(df.select_dtypes(include='float64'))}\")\n",
    "print(f\"Int64 columns: {len(df.select_dtypes(include='int64'))}\")\n",
    "print(f\"Object columns: {len(df.select_dtypes(include='object'))}\")"
   ]
  },
  {
   "cell_type": "markdown",
   "id": "d707c550",
   "metadata": {},
   "source": [
    "6. What single command can you use to produce a summary of all categorical variables in the dataset?"
   ]
  },
  {
   "cell_type": "code",
   "execution_count": null,
   "id": "d319c2e3",
   "metadata": {},
   "outputs": [],
   "source": [
    "df.describe(include='object')"
   ]
  },
  {
   "cell_type": "markdown",
   "id": "989ae9cf",
   "metadata": {},
   "source": [
    "7. Provide the total number of samples (count), number of unique values, top value, and frequency for the following columns: Test_Date, Device_Name, Brand, Model, Category, Water_Resistance_Rating, Connectivity_Features, and App_Ecosystem_Support."
   ]
  },
  {
   "cell_type": "code",
   "execution_count": null,
   "id": "7a9ab9fa",
   "metadata": {},
   "outputs": [],
   "source": [
    "cols = ['test_date', 'device_name', 'brand', 'model', 'category',\n",
    "        'water_resistance_rating', 'connectivity_features', 'app_ecosystem_support']\n",
    "df[cols].describe()"
   ]
  },
  {
   "cell_type": "markdown",
   "id": "cec67d52",
   "metadata": {},
   "source": [
    "8. List all unique categories in the Category column and their total counts."
   ]
  },
  {
   "cell_type": "code",
   "execution_count": null,
   "id": "e1babbcc",
   "metadata": {},
   "outputs": [],
   "source": [
    "df['category'].value_counts()"
   ]
  },
  {
   "cell_type": "markdown",
   "id": "0fc5b99b",
   "metadata": {},
   "source": [
    "9. List all unique brands in the Brand column and their total counts."
   ]
  },
  {
   "cell_type": "code",
   "execution_count": null,
   "id": "7ff6147f",
   "metadata": {},
   "outputs": [],
   "source": [
    "df['brand'].value_counts()"
   ]
  },
  {
   "cell_type": "markdown",
   "id": "8b5ecd8c",
   "metadata": {},
   "source": [
    "## (B) DESCRIPTIVE STATISTICS"
   ]
  },
  {
   "cell_type": "markdown",
   "id": "55030481",
   "metadata": {},
   "source": [
    "10. What is the mean of all numerical features (Price_USD, Descriptive Statistics, Descriptive Statistics, Step_Count_Accuracy_Percent, Sleep_Tracking_Accuracy_Percent, GPS_Accuracy_Meters, Health_Sensors_Count, Performance_Score)?"
   ]
  },
  {
   "cell_type": "code",
   "execution_count": null,
   "id": "8ec3901e",
   "metadata": {},
   "outputs": [],
   "source": [
    "df.select_dtypes(include=['float64', 'int64']).mean()"
   ]
  },
  {
   "cell_type": "markdown",
   "id": "f060031e",
   "metadata": {},
   "source": [
    "11. What is the standard deviation of all numerical features in the dataset?"
   ]
  },
  {
   "cell_type": "code",
   "execution_count": null,
   "id": "34d12519",
   "metadata": {},
   "outputs": [],
   "source": [
    "df.select_dtypes(include=['float64', 'int64']).std()"
   ]
  },
  {
   "cell_type": "markdown",
   "id": "20124224",
   "metadata": {},
   "source": [
    "12. What is the minimum value of all numerical features in the dataset?"
   ]
  },
  {
   "cell_type": "code",
   "execution_count": null,
   "id": "1749bfd7",
   "metadata": {},
   "outputs": [],
   "source": [
    "df.select_dtypes(include=['float64', 'int64']).min()"
   ]
  },
  {
   "cell_type": "markdown",
   "id": "87788dae",
   "metadata": {},
   "source": [
    "13. What is the maximum value of all numerical features in the dataset?"
   ]
  },
  {
   "cell_type": "code",
   "execution_count": null,
   "id": "068e39e1",
   "metadata": {},
   "outputs": [],
   "source": [
    "df.select_dtypes(include=['float64', 'int64']).max()"
   ]
  },
  {
   "cell_type": "markdown",
   "id": "cc5f98d6",
   "metadata": {},
   "source": [
    "14. What is the median value of Price_USD across all samples?"
   ]
  },
  {
   "cell_type": "code",
   "execution_count": null,
   "id": "84f51a95",
   "metadata": {},
   "outputs": [],
   "source": [
    "df['price_usd'].median()"
   ]
  },
  {
   "cell_type": "markdown",
   "id": "05b6ac16",
   "metadata": {},
   "source": [
    "15. What are the 25th and 75th percentiles of Battery_Life_Hours in the dataset?"
   ]
  },
  {
   "cell_type": "code",
   "execution_count": null,
   "id": "6c60557b",
   "metadata": {},
   "outputs": [],
   "source": [
    "df['battery_life_hours'].quantile([0.25, 0.75])"
   ]
  },
  {
   "cell_type": "markdown",
   "id": "0c9aa136",
   "metadata": {},
   "source": [
    "16. What are the count, mean, standard deviation, minimum, and maximum of Heart_Rate_Accuracy_Percent?"
   ]
  },
  {
   "cell_type": "code",
   "execution_count": null,
   "id": "89188554",
   "metadata": {},
   "outputs": [],
   "source": [
    "df['heart_rate_accuracy_percent'].describe()"
   ]
  },
  {
   "cell_type": "markdown",
   "id": "70b82fa7",
   "metadata": {},
   "source": [
    "17. What are the count, mean, standard deviation, minimum, and maximum of Step_Count_Accuracy_Percent?"
   ]
  },
  {
   "cell_type": "code",
   "execution_count": null,
   "id": "2799cdde",
   "metadata": {},
   "outputs": [],
   "source": [
    "df['step_count_accuracy_percent'].describe()"
   ]
  },
  {
   "cell_type": "markdown",
   "id": "6ef908cc",
   "metadata": {},
   "source": [
    "18. What are the count, mean, standard deviation, minimum, and maximum of Sleep_Tracking_Accuracy_Percent?"
   ]
  },
  {
   "cell_type": "code",
   "execution_count": null,
   "id": "569fdbd0",
   "metadata": {},
   "outputs": [],
   "source": [
    "df['sleep_tracking_accuracy_percent'].describe()"
   ]
  },
  {
   "cell_type": "markdown",
   "id": "d689153f",
   "metadata": {},
   "source": [
    "19. What are the count, mean, standard deviation, minimum, and maximum of Performance_Score?"
   ]
  },
  {
   "cell_type": "code",
   "execution_count": null,
   "id": "439ea8ed",
   "metadata": {},
   "outputs": [],
   "source": [
    "df['performance_score'].describe()"
   ]
  },
  {
   "cell_type": "markdown",
   "id": "48ef796a",
   "metadata": {},
   "source": [
    "## (C) CATEGORICAL FEATURE ANALYSIS"
   ]
  },
  {
   "cell_type": "markdown",
   "id": "b8b0c8a5",
   "metadata": {},
   "source": [
    "20. How many unique devices are listed in the Device_Name column?"
   ]
  },
  {
   "cell_type": "code",
   "execution_count": null,
   "id": "a61329f3",
   "metadata": {},
   "outputs": [],
   "source": [
    "df['device_name'].nunique()"
   ]
  },
  {
   "cell_type": "markdown",
   "id": "f5733562",
   "metadata": {},
   "source": [
    "21. How many unique models are listed in the Model column?"
   ]
  },
  {
   "cell_type": "code",
   "execution_count": null,
   "id": "c9aba4de",
   "metadata": {},
   "outputs": [],
   "source": [
    "df['model'].nunique()"
   ]
  },
  {
   "cell_type": "markdown",
   "id": "9719232e",
   "metadata": {},
   "source": [
    "22. What is the most frequent Water_Resistance_Rating and its frequency?"
   ]
  },
  {
   "cell_type": "code",
   "execution_count": null,
   "id": "a1f0f5cf",
   "metadata": {},
   "outputs": [],
   "source": [
    "water_resistance_counts = df['water_resistance_rating'].value_counts()\n",
    "print(f\"Most frequent: {water_resistance_counts.idxmax()} (appears {water_resistance_counts.max()} times)\")"
   ]
  },
  {
   "cell_type": "markdown",
   "id": "dce380ef",
   "metadata": {},
   "source": [
    "23. What is the most frequent Connectivity_Features value and its frequency?"
   ]
  },
  {
   "cell_type": "code",
   "execution_count": null,
   "id": "41038678",
   "metadata": {},
   "outputs": [],
   "source": [
    "connectivity_counts = df['connectivity_features'].value_counts()\n",
    "print(f\"Most frequent: {connectivity_counts.idxmax()} (appears {connectivity_counts.max()} times)\")"
   ]
  },
  {
   "cell_type": "markdown",
   "id": "5134f579",
   "metadata": {},
   "source": [
    "24. What is the most frequent App_Ecosystem_Support value and its frequency?"
   ]
  },
  {
   "cell_type": "code",
   "execution_count": null,
   "id": "2b81cf73",
   "metadata": {},
   "outputs": [],
   "source": [
    "app_counts = df['app_ecosystem_support'].value_counts()\n",
    "print(f\"Most frequent: {app_counts.idxmax()} (appears {app_counts.max()} times)\")"
   ]
  },
  {
   "cell_type": "markdown",
   "id": "42aa9bc9",
   "metadata": {},
   "source": [
    "25. How many devices have Smartwatch as their Category?"
   ]
  },
  {
   "cell_type": "code",
   "execution_count": null,
   "id": "5f3c2383",
   "metadata": {},
   "outputs": [],
   "source": [
    "len(df[df['category'] == 'Smartwatch'])"
   ]
  },
  {
   "cell_type": "markdown",
   "id": "f69e76c6",
   "metadata": {},
   "source": [
    "26. How many devices are from the Fitbit brand?"
   ]
  },
  {
   "cell_type": "code",
   "execution_count": null,
   "id": "330ec320",
   "metadata": {},
   "outputs": [],
   "source": [
    "len(df[df['brand'] == 'Fitbit'])"
   ]
  },
  {
   "cell_type": "markdown",
   "id": "11e7bbe9",
   "metadata": {},
   "source": [
    "27. How many devices support WiFi, Bluetooth, NFC, LTE in the Connectivity_Features column?"
   ]
  },
  {
   "cell_type": "code",
   "execution_count": null,
   "id": "9c3ff875",
   "metadata": {},
   "outputs": [],
   "source": [
    "len(df[df['connectivity_features'].str.contains('WiFi') & df['connectivity_features'].str.contains('Bluetooth') & df['connectivity_features'].str.contains('NFC') & df['connectivity_features'].str.contains('LTE')])"
   ]
  },
  {
   "cell_type": "markdown",
   "id": "6e11fe6c",
   "metadata": {},
   "source": [
    "28. List all devices with Cross-platform support in the App_Ecosystem_Support column."
   ]
  },
  {
   "cell_type": "code",
   "execution_count": null,
   "id": "85790f54",
   "metadata": {},
   "outputs": [],
   "source": [
    "df[df['app_ecosystem_support'].str.contains('Cross-platform', na=False)][['device_name', 'app_ecosystem_support']]"
   ]
  },
  {
   "cell_type": "markdown",
   "id": "7773f5f9",
   "metadata": {},
   "source": [
    "29. What is the distribution of devices across the Test_Date values (count of devices per date)?"
   ]
  },
  {
   "cell_type": "code",
   "execution_count": null,
   "id": "3845b992",
   "metadata": {},
   "outputs": [],
   "source": [
    "df['test_date'].value_counts().sort_index()"
   ]
  },
  {
   "cell_type": "markdown",
   "id": "86fbacdf",
   "metadata": {},
   "source": [
    "## (D) MISSING VALUES"
   ]
  },
  {
   "cell_type": "markdown",
   "id": "a244739b",
   "metadata": {},
   "source": [
    "30. Which columns in the dataset contain missing values, and how many missing values are in each?"
   ]
  },
  {
   "cell_type": "code",
   "execution_count": null,
   "id": "2afb94e4",
   "metadata": {},
   "outputs": [],
   "source": [
    "df.isna().sum()[df.isna().sum() > 0]"
   ]
  },
  {
   "cell_type": "markdown",
   "id": "957636a7",
   "metadata": {},
   "source": [
    "31. What is the total number of missing values in the GPS_Accuracy_Meters column?"
   ]
  },
  {
   "cell_type": "code",
   "execution_count": null,
   "id": "a42725af",
   "metadata": {},
   "outputs": [],
   "source": [
    "df['gps_accuracy_meters'].isna().sum()"
   ]
  },
  {
   "cell_type": "markdown",
   "id": "6f7bbdf5",
   "metadata": {},
   "source": [
    "32. What percentage of values are missing in the GPS_Accuracy_Meters column?"
   ]
  },
  {
   "cell_type": "code",
   "execution_count": null,
   "id": "d477e813",
   "metadata": {},
   "outputs": [],
   "source": [
    "print(f\"{df['gps_accuracy_meters'].isna().mean() * 100:.2f}% missing\")"
   ]
  },
  {
   "cell_type": "markdown",
   "id": "19fc0f96",
   "metadata": {},
   "source": [
    "33. Using a heatmap, visualize missing values in the columns Device_Name, Brand, Model, Category, Water_Resistance_Rating, Connectivity_Features, and App_Ecosystem_Support. Provide the code used."
   ]
  },
  {
   "cell_type": "code",
   "execution_count": null,
   "id": "2356c06d",
   "metadata": {},
   "outputs": [],
   "source": [
    "cols = ['device_name', 'brand', 'model', 'category',\n",
    "        'water_resistance_rating', 'connectivity_features', 'app_ecosystem_support']\n",
    "sns.heatmap(df[cols].isna(), cbar=False)\n",
    "plt.title('Missing Values Heatmap')\n",
    "plt.show()"
   ]
  },
  {
   "cell_type": "markdown",
   "id": "e5c3017d",
   "metadata": {},
   "source": [
    "34. Using pandas, create a bar chart of missing values per column in the dataset. Provide the code and comment on the observations."
   ]
  },
  {
   "cell_type": "code",
   "execution_count": null,
   "id": "9a8c4c45",
   "metadata": {},
   "outputs": [],
   "source": [
    "df.isna().sum().plot(kind='bar', figsize=(10, 5))\n",
    "plt.title('Missing Values per Column')\n",
    "plt.ylabel('Count of Missing Values')\n",
    "plt.show()"
   ]
  },
  {
   "cell_type": "markdown",
   "id": "945786e3",
   "metadata": {},
   "source": [
    "35. Using the missing library, visualize the missing data pattern in the dataset. Provide the code and comment on the output."
   ]
  },
  {
   "cell_type": "code",
   "execution_count": null,
   "id": "958acb65",
   "metadata": {},
   "outputs": [],
   "source": [
    "missingno.matrix(df)\n",
    "plt.title('Missing Data Pattern')\n",
    "plt.show()"
   ]
  },
  {
   "cell_type": "markdown",
   "id": "8dc44bdb",
   "metadata": {},
   "source": [
    "36. Suggest an approach for replacing missing values in the GPS_Accuracy_Meters column, and justify why this approach is appropriate."
   ]
  },
  {
   "cell_type": "code",
   "execution_count": null,
   "id": "96a9712d",
   "metadata": {},
   "outputs": [],
   "source": [
    "# Answer:\n",
    "# For GPS_Accuracy_Meters, using median imputation would be appropriate because:\n",
    "# 1. The data is likely skewed (many devices with similar accuracy, few outliers)\n",
    "# 2. Median is robust to outliers\n",
    "# 3. GPS accuracy is a technical specification that doesn't vary wildly within device categories"
   ]
  },
  {
   "cell_type": "markdown",
   "id": "65791a69",
   "metadata": {},
   "source": [
    "37. Replace missing values in the GPS_Accuracy_Meters column with the median value. Provide the code used."
   ]
  },
  {
   "cell_type": "code",
   "execution_count": null,
   "id": "fd7ec6ae",
   "metadata": {},
   "outputs": [],
   "source": [
    "df['gps_accuracy_meters'].fillna(df['gps_accuracy_meters'].median(), inplace=True)"
   ]
  },
  {
   "cell_type": "markdown",
   "id": "74c814a8",
   "metadata": {},
   "source": [
    "38. Suggest an approach for replacing missing values in the User_Satisfaction_Rating column, if any, and justify your choice."
   ]
  },
  {
   "cell_type": "code",
   "execution_count": null,
   "id": "cbeede9e",
   "metadata": {},
   "outputs": [],
   "source": [
    "# Answer:\n",
    "# For User_Satisfaction_Rating, possible approaches:\n",
    "# 1. If few missing values, remove those rows\n",
    "# 2. If many missing, impute with median or mean (if normally distributed)\n",
    "# 3. Or predict based on other features (Performance_Score, Price_USD, etc.)\n",
    "# Justification depends on data distribution and missingness pattern"
   ]
  },
  {
   "cell_type": "markdown",
   "id": "996cab8a",
   "metadata": {},
   "source": [
    "39. After replacing missing values in GPS_Accuracy_Meters, verify that there are no missing values left in this column. Provide the code used."
   ]
  },
  {
   "cell_type": "code",
   "execution_count": null,
   "id": "6ee5a0ac",
   "metadata": {},
   "outputs": [],
   "source": [
    "df['gps_accuracy_meters'].isna().sum()"
   ]
  },
  {
   "cell_type": "markdown",
   "id": "6dd25bb5",
   "metadata": {},
   "source": [
    "## (E) OUTLIER DETECTION AND HANDLING"
   ]
  },
  {
   "cell_type": "markdown",
   "id": "2ea3c4ee",
   "metadata": {},
   "source": [
    "40. Using the IQR method, identify outliers in the Price_USD column. List the outlier values."
   ]
  },
  {
   "cell_type": "code",
   "execution_count": null,
   "id": "dca8ff4e",
   "metadata": {},
   "outputs": [],
   "source": [
    "Q1 = df['price_usd'].quantile(0.25)\n",
    "Q3 = df['price_usd'].quantile(0.75)\n",
    "IQR = Q3 - Q1\n",
    "lower_bound = Q1 - 1.5 * IQR\n",
    "upper_bound = Q3 + 1.5 * IQR\n",
    "outliers = df[(df['price_usd'] < lower_bound) | (df['price_usd'] > upper_bound)]['price_usd']\n",
    "outliers"
   ]
  },
  {
   "cell_type": "markdown",
   "id": "97a541f9",
   "metadata": {},
   "source": [
    "41. Using the IQR method, identify outliers in the Battery_Life_Hours column. List the outlier values."
   ]
  },
  {
   "cell_type": "code",
   "execution_count": null,
   "id": "b8f8f3de",
   "metadata": {},
   "outputs": [],
   "source": [
    "Q1 = df['battery_life_hours'].quantile(0.25)\n",
    "Q3 = df['battery_life_hours'].quantile(0.75)\n",
    "IQR = Q3 - Q1\n",
    "lower_bound = Q1 - 1.5 * IQR\n",
    "upper_bound = Q3 + 1.5 * IQR\n",
    "outliers = df[(df['battery_life_hours'] < lower_bound) | (df['battery_life_hours'] > upper_bound)]['battery_life_hours']\n",
    "outliers"
   ]
  },
  {
   "cell_type": "markdown",
   "id": "8635025e",
   "metadata": {},
   "source": [
    "42. Using the IQR method, identify outliers in the Heart_Rate_Accuracy_Percent column. List the outlier values."
   ]
  },
  {
   "cell_type": "code",
   "execution_count": null,
   "id": "a6119514",
   "metadata": {},
   "outputs": [],
   "source": [
    "Q1 = df['heart_rate_accuracy_percent'].quantile(0.25)\n",
    "Q3 = df['heart_rate_accuracy_percent'].quantile(0.75)\n",
    "IQR = Q3 - Q1\n",
    "lower_bound = Q1 - 1.5 * IQR\n",
    "upper_bound = Q3 + 1.5 * IQR\n",
    "outliers = df[(df['heart_rate_accuracy_percent'] < lower_bound) | (df['heart_rate_accuracy_percent'] > upper_bound)]['heart_rate_accuracy_percent']\n",
    "outliers"
   ]
  },
  {
   "cell_type": "markdown",
   "id": "c6f6fc79",
   "metadata": {},
   "source": [
    "43. Using the IQR method, identify outliers in the Step_Count_Accuracy_Percent column. List the outlier values."
   ]
  },
  {
   "cell_type": "code",
   "execution_count": null,
   "id": "9b7bbb12",
   "metadata": {},
   "outputs": [],
   "source": [
    "Q1 = df['step_count_accuracy_percent'].quantile(0.25)\n",
    "Q3 = df['step_count_accuracy_percent'].quantile(0.75)\n",
    "IQR = Q3 - Q1\n",
    "lower_bound = Q1 - 1.5 * IQR\n",
    "upper_bound = Q3 + 1.5 * IQR\n",
    "outliers = df[(df['step_count_accuracy_percent'] < lower_bound) | (df['step_count_accuracy_percent'] > upper_bound)]['step_count_accuracy_percent']\n",
    "outliers"
   ]
  },
  {
   "cell_type": "markdown",
   "id": "19aa829f",
   "metadata": {},
   "source": [
    "44. Using the IQR method, identify outliers in the Sleep_Tracking_Accuracy_Percent column. List the outlier values."
   ]
  },
  {
   "cell_type": "code",
   "execution_count": null,
   "id": "0b5c8564",
   "metadata": {},
   "outputs": [],
   "source": [
    "Q1 = df['sleep_tracking_accuracy_percent'].quantile(0.25)\n",
    "Q3 = df['sleep_tracking_accuracy_percent'].quantile(0.75)\n",
    "IQR = Q3 - Q1\n",
    "lower_bound = Q1 - 1.5 * IQR\n",
    "upper_bound = Q3 + 1.5 * IQR\n",
    "outliers = df[(df['sleep_tracking_accuracy_percent'] < lower_bound) | (df['sleep_tracking_accuracy_percent'] > upper_bound)]['sleep_tracking_accuracy_percent']\n",
    "outliers"
   ]
  },
  {
   "cell_type": "markdown",
   "id": "f7dc39ff",
   "metadata": {},
   "source": [
    "45. Using the IQR method, identify outliers in the Performance_Score column. List the outlier values."
   ]
  },
  {
   "cell_type": "code",
   "execution_count": null,
   "id": "2882f049",
   "metadata": {},
   "outputs": [],
   "source": [
    "Q1 = df['performance_score'].quantile(0.25)\n",
    "Q3 = df['performance_score'].quantile(0.75)\n",
    "IQR = Q3 - Q1\n",
    "lower_bound = Q1 - 1.5 * IQR\n",
    "upper_bound = Q3 + 1.5 * IQR\n",
    "outliers = df[(df['performance_score'] < lower_bound) | (df['performance_score'] > upper_bound)]['performance_score']\n",
    "outliers"
   ]
  },
  {
   "cell_type": "markdown",
   "id": "ecd43193",
   "metadata": {},
   "source": [
    "46. Provide the code to remove outliers from all numerical columns using the IQR method."
   ]
  },
  {
   "cell_type": "code",
   "execution_count": null,
   "id": "d2875c94",
   "metadata": {},
   "outputs": [],
   "source": [
    "def remove_outliers(df, column):\n",
    "    Q1 = df[column].quantile(0.25)\n",
    "    Q3 = df[column].quantile(0.75)\n",
    "    IQR = Q3 - Q1\n",
    "    lower_bound = Q1 - 1.5 * IQR\n",
    "    upper_bound = Q3 + 1.5 * IQR\n",
    "    return df[(df[column] >= lower_bound) & (df[column] <= upper_bound)]\n",
    "\n",
    "numerical_cols = df.select_dtypes(include=['float64', 'int64']).columns\n",
    "for col in numerical_cols:\n",
    "    df = remove_outliers(df, col)"
   ]
  },
  {
   "cell_type": "markdown",
   "id": "5b78e0d7",
   "metadata": {},
   "source": [
    "47. What is the sample size of the dataset after removing outliers from all numerical columns?"
   ]
  },
  {
   "cell_type": "code",
   "execution_count": null,
   "id": "155fcc47",
   "metadata": {},
   "outputs": [],
   "source": [
    "len(df)"
   ]
  },
  {
   "cell_type": "markdown",
   "id": "8ab57b3b",
   "metadata": {},
   "source": [
    "48. Create box plots for all numerical columns before removing outliers. Provide the code used."
   ]
  },
  {
   "cell_type": "code",
   "execution_count": null,
   "id": "81a3fb0f",
   "metadata": {},
   "outputs": [],
   "source": [
    "numerical_cols = df.select_dtypes(include=['float64', 'int64']).columns\n",
    "plt.figure(figsize=(15, 10))\n",
    "df[numerical_cols].boxplot()\n",
    "plt.title('Boxplots of Numerical Columns (Before Outlier Removal)')\n",
    "plt.xticks(rotation=45)\n",
    "plt.show()"
   ]
  },
  {
   "cell_type": "markdown",
   "id": "c4e5cc3d",
   "metadata": {},
   "source": [
    "49. Create box plots for all numerical columns after removing outliers. Provide the code used and comment on the differences."
   ]
  },
  {
   "cell_type": "code",
   "execution_count": null,
   "id": "f2c03b1b",
   "metadata": {},
   "outputs": [],
   "source": [
    "numerical_cols = df.select_dtypes(include=['float64', 'int64']).columns\n",
    "plt.figure(figsize=(15, 10))\n",
    "df[numerical_cols].boxplot()\n",
    "plt.title('Boxplots of Numerical Columns (After Outlier Removal)')\n",
    "plt.xticks(rotation=45)\n",
    "plt.show()"
   ]
  },
  {
   "cell_type": "markdown",
   "id": "5ea119d9",
   "metadata": {},
   "source": [
    "## (F) VISUALIZATION"
   ]
  },
  {
   "cell_type": "markdown",
   "id": "2224b9bf",
   "metadata": {},
   "source": [
    "50. Create a histogram for Price_USD with 50 bins and a KDE curve. Provide the code used."
   ]
  },
  {
   "cell_type": "code",
   "execution_count": null,
   "id": "37b129ee",
   "metadata": {},
   "outputs": [],
   "source": [
    "sns.histplot(df['price_usd'], bins=50, kde=True)\n",
    "plt.title('Distribution of Price (USD)')\n",
    "plt.show()"
   ]
  },
  {
   "cell_type": "markdown",
   "id": "193e359b",
   "metadata": {},
   "source": [
    "51. Create a histogram for Battery_Life_Hours with 50 bins and a KDE curve. Provide the code used."
   ]
  },
  {
   "cell_type": "code",
   "execution_count": null,
   "id": "d82601f5",
   "metadata": {},
   "outputs": [],
   "source": [
    "sns.histplot(df['battery_life_hours'], bins=50, kde=True)\n",
    "plt.title('Distribution of Battery Life (Hours)')\n",
    "plt.show()"
   ]
  },
  {
   "cell_type": "markdown",
   "id": "1a202bb1",
   "metadata": {},
   "source": [
    "52. Create a histogram for Heart_Rate_Accuracy_Percent with 50 bins and a KDE curve. Provide the code used."
   ]
  },
  {
   "cell_type": "code",
   "execution_count": null,
   "id": "119680d9",
   "metadata": {},
   "outputs": [],
   "source": [
    "sns.histplot(df['heart_rate_accuracy_percent'], bins=50, kde=True)\n",
    "plt.title('Distribution of Heart Rate Accuracy (%)')\n",
    "plt.show()"
   ]
  },
  {
   "cell_type": "markdown",
   "id": "fa0b8211",
   "metadata": {},
   "source": [
    "53. Create a histogram for Step_Count_Accuracy_Percent with 50 bins and a KDE curve. Provide the code used."
   ]
  },
  {
   "cell_type": "code",
   "execution_count": null,
   "id": "dc329195",
   "metadata": {},
   "outputs": [],
   "source": [
    "sns.histplot(df['step_count_accuracy_percent'], bins=50, kde=True)\n",
    "plt.title('Distribution of Step Count Accuracy (%)')\n",
    "plt.show()"
   ]
  },
  {
   "cell_type": "markdown",
   "id": "4b60d2b1",
   "metadata": {},
   "source": [
    "54. Create a histogram for Sleep_Tracking_Accuracy_Percent with 50 bins and a KDE curve. Provide the code used."
   ]
  },
  {
   "cell_type": "code",
   "execution_count": null,
   "id": "f9bc9a03",
   "metadata": {},
   "outputs": [],
   "source": [
    "sns.histplot(df['sleep_tracking_accuracy_percent'], bins=50, kde=True)\n",
    "plt.title('Distribution of Sleep Tracking Accuracy (%)')\n",
    "plt.show()"
   ]
  },
  {
   "cell_type": "markdown",
   "id": "0896f703",
   "metadata": {},
   "source": [
    "55. Create a bar plot showing the average User_Satisfaction_Rating by Category. Provide the code used."
   ]
  },
  {
   "cell_type": "code",
   "execution_count": null,
   "id": "6a0de71a",
   "metadata": {},
   "outputs": [],
   "source": [
    "df.groupby('category')['user_satisfaction_rating'].mean().plot(kind='bar')\n",
    "plt.title('Average User Satisfaction Rating by Category')\n",
    "plt.ylabel('Average Rating')\n",
    "plt.show()"
   ]
  },
  {
   "cell_type": "markdown",
   "id": "b8bddfa4",
   "metadata": {},
   "source": [
    "56. Create a bar plot showing the average Performance_Score by Brand. Provide the code used."
   ]
  },
  {
   "cell_type": "code",
   "execution_count": null,
   "id": "1a928d66",
   "metadata": {},
   "outputs": [],
   "source": [
    "df.groupby('brand')['performance_score'].mean().sort_values().plot(kind='bar')\n",
    "plt.title('Average Performance Score by Brand')\n",
    "plt.ylabel('Average Score')\n",
    "plt.show()"
   ]
  },
  {
   "cell_type": "markdown",
   "id": "a2a3bef0",
   "metadata": {},
   "source": [
    "57. Create a box plot showing the distribution of Price_USD by Category. Provide the code used."
   ]
  },
  {
   "cell_type": "code",
   "execution_count": null,
   "id": "93d2137d",
   "metadata": {},
   "outputs": [],
   "source": [
    "sns.boxplot(x='category', y='price_usd', data=df)\n",
    "plt.title('Price Distribution by Category')\n",
    "plt.xticks(rotation=45)\n",
    "plt.show()"
   ]
  },
  {
   "cell_type": "markdown",
   "id": "4758bd2d",
   "metadata": {},
   "source": [
    "58. Create a box plot showing the distribution of Battery_Life_Hours by Brand. Provide the code used."
   ]
  },
  {
   "cell_type": "code",
   "execution_count": null,
   "id": "237fc8e7",
   "metadata": {},
   "outputs": [],
   "source": [
    "plt.figure(figsize=(12, 6))\n",
    "sns.boxplot(x='brand', y='battery_life_hours', data=df)\n",
    "plt.title('Battery Life Distribution by Brand')\n",
    "plt.xticks(rotation=90)\n",
    "plt.show()"
   ]
  },
  {
   "cell_type": "markdown",
   "id": "f6e52f99",
   "metadata": {},
   "source": [
    "59. Create a scatter plot of Heart_Rate_Accuracy_Percent vs. Step_Count_Accuracy_Percent, colored by Category. Provide the code used."
   ]
  },
  {
   "cell_type": "code",
   "execution_count": null,
   "id": "974d298b",
   "metadata": {},
   "outputs": [],
   "source": [
    "sns.scatterplot(x='heart_rate_accuracy_percent', y='step_count_accuracy_percent', hue='category', data=df)\n",
    "plt.title('Heart Rate Accuracy vs Step Count Accuracy')\n",
    "plt.show()"
   ]
  },
  {
   "cell_type": "markdown",
   "id": "c33304e7",
   "metadata": {},
   "source": [
    "## (G) CORRELATION ANALYSIS"
   ]
  },
  {
   "cell_type": "markdown",
   "id": "2ebd6e74",
   "metadata": {},
   "source": [
    "60. Create a correlation heatmap for all numerical columns with annotations. Provide the code used."
   ]
  },
  {
   "cell_type": "code",
   "execution_count": null,
   "id": "5807358c",
   "metadata": {},
   "outputs": [],
   "source": [
    "plt.figure(figsize=(12, 8))\n",
    "sns.heatmap(df.select_dtypes(include=['float64', 'int64']).corr(), annot=True, cmap='coolwarm', center=0)\n",
    "plt.title('Correlation Heatmap')\n",
    "plt.show()"
   ]
  },
  {
   "cell_type": "markdown",
   "id": "91f23344",
   "metadata": {},
   "source": [
    "61. Create a lower triangle correlation heatmap for numerical columns. Provide the code used."
   ]
  },
  {
   "cell_type": "code",
   "execution_count": null,
   "id": "36a5cd28",
   "metadata": {},
   "outputs": [],
   "source": [
    "corr = df.select_dtypes(include=['float64', 'int64']).corr()\n",
    "mask = np.triu(np.ones_like(corr, dtype=bool))\n",
    "plt.figure(figsize=(12, 8))\n",
    "sns.heatmap(corr, mask=mask, annot=True, cmap='coolwarm', center=0)\n",
    "plt.title('Lower Triangle Correlation Heatmap')\n",
    "plt.show()"
   ]
  },
  {
   "cell_type": "markdown",
   "id": "c2915fa5",
   "metadata": {},
   "source": [
    "62. What is the correlation coefficient between Heart_Rate_Accuracy_Percent and Step_Count_Accuracy_Percent?"
   ]
  },
  {
   "cell_type": "code",
   "execution_count": null,
   "id": "effa4d98",
   "metadata": {},
   "outputs": [],
   "source": [
    "df[['heart_rate_accuracy_percent', 'step_count_accuracy_percent']].corr().iloc[0,1]"
   ]
  },
  {
   "cell_type": "markdown",
   "id": "55235ba6",
   "metadata": {},
   "source": [
    "63. What is the correlation coefficient between Price_USD and Performance_Score?"
   ]
  },
  {
   "cell_type": "code",
   "execution_count": null,
   "id": "40c91621",
   "metadata": {},
   "outputs": [],
   "source": [
    "df[['price_usd', 'performance_score']].corr().iloc[0,1]"
   ]
  },
  {
   "cell_type": "markdown",
   "id": "dffb1245",
   "metadata": {},
   "source": [
    "64. What is the correlation coefficient between Battery_Life_Hours and User_Satisfaction_Rating?"
   ]
  },
  {
   "cell_type": "code",
   "execution_count": null,
   "id": "65ac1f82",
   "metadata": {},
   "outputs": [],
   "source": [
    "df[['battery_life_hours', 'user_satisfaction_rating']].corr().iloc[0,1]"
   ]
  },
  {
   "cell_type": "markdown",
   "id": "41f8be42",
   "metadata": {},
   "source": [
    "65. Create a pairplot for numerical columns (Price_USD, Battery_Life_Hours, Heart_Rate_Accuracy_Percent, Step_Count_Accuracy_Percent, Performance_Score), colored by Category. Provide the code used."
   ]
  },
  {
   "cell_type": "code",
   "execution_count": null,
   "id": "8c372a1b",
   "metadata": {},
   "outputs": [],
   "source": [
    "sns.pairplot(df, vars=['price_usd', 'battery_life_hours', 'heart_rate_accuracy_percent',\n",
    "                   'step_count_accuracy_percent', 'performance_score'], hue='category')\n",
    "plt.show()"
   ]
  },
  {
   "cell_type": "markdown",
   "id": "e49f652c",
   "metadata": {},
   "source": [
    "66. Which numerical features have the highest positive correlation with Performance_Score?"
   ]
  },
  {
   "cell_type": "code",
   "execution_count": null,
   "id": "8e301320",
   "metadata": {},
   "outputs": [],
   "source": [
    "corr = df.select_dtypes(include=['float64', 'int64']).corr()\n",
    "corr['performance_score'].sort_values(ascending=False).head(6)"
   ]
  },
  {
   "cell_type": "markdown",
   "id": "65fee5a1",
   "metadata": {},
   "source": [
    "67. Which numerical features have the highest negative correlation with User_Satisfaction_Rating?"
   ]
  },
  {
   "cell_type": "code",
   "execution_count": null,
   "id": "ae20bb7a",
   "metadata": {},
   "outputs": [],
   "source": [
    "corr = df.select_dtypes(include=['float64', 'int64']).corr()\n",
    "corr['user_satisfaction_rating'].sort_values().head(5)"
   ]
  },
  {
   "cell_type": "markdown",
   "id": "81d0a82f",
   "metadata": {},
   "source": [
    "68. Create a scatter plot of Price_USD vs. Performance_Score with a regression line. Provide the code used."
   ]
  },
  {
   "cell_type": "code",
   "execution_count": null,
   "id": "783d59a0",
   "metadata": {},
   "outputs": [],
   "source": [
    "sns.lmplot(x='price_usd', y='performance_score', data=df)\n",
    "plt.title('Price vs Performance Score with Regression Line')\n",
    "plt.show()"
   ]
  },
  {
   "cell_type": "markdown",
   "id": "537e462f",
   "metadata": {},
   "source": [
    "69. Create a scatter plot of Battery_Life_Hours vs. User_Satisfaction_Rating with a regression line. Provide the code used."
   ]
  },
  {
   "cell_type": "code",
   "execution_count": null,
   "id": "2c8165b3",
   "metadata": {},
   "outputs": [],
   "source": [
    "sns.lmplot(x='battery_life_hours', y='user_satisfaction_rating', data=df)\n",
    "plt.title('Battery Life vs User Satisfaction with Regression Line')\n",
    "plt.show()"
   ]
  },
  {
   "cell_type": "markdown",
   "id": "9301e7f9",
   "metadata": {},
   "source": [
    "## (H) GROUPING AND AGGREGATION"
   ]
  },
  {
   "cell_type": "markdown",
   "id": "e2b2eabb",
   "metadata": {},
   "source": [
    "70. What is the average Price_USD for each Category?"
   ]
  },
  {
   "cell_type": "code",
   "execution_count": null,
   "id": "3a1dac75",
   "metadata": {},
   "outputs": [],
   "source": [
    "df.groupby('category')['price_usd'].mean()"
   ]
  },
  {
   "cell_type": "markdown",
   "id": "1644db0f",
   "metadata": {},
   "source": [
    "71. What is the average Battery_Life_Hours for each Brand?"
   ]
  },
  {
   "cell_type": "code",
   "execution_count": null,
   "id": "e7f6c1d4",
   "metadata": {},
   "outputs": [],
   "source": [
    "df.groupby('brand')['battery_life_hours'].mean()"
   ]
  },
  {
   "cell_type": "markdown",
   "id": "915faa4a",
   "metadata": {},
   "source": [
    "72. What is the average User_Satisfaction_Rating for each Water_Resistance_Rating?"
   ]
  },
  {
   "cell_type": "code",
   "execution_count": null,
   "id": "8d58c55a",
   "metadata": {},
   "outputs": [],
   "source": [
    "df.groupby('water_resistance_rating')['user_satisfaction_rating'].mean()"
   ]
  },
  {
   "cell_type": "markdown",
   "id": "cca6448f",
   "metadata": {},
   "source": [
    "73. What is the maximum Performance_Score for each App_Ecosystem_Support category?"
   ]
  },
  {
   "cell_type": "code",
   "execution_count": null,
   "id": "815d25b0",
   "metadata": {},
   "outputs": [],
   "source": [
    "df.groupby('app_ecosystem_support')['performance_score'].max()"
   ]
  },
  {
   "cell_type": "markdown",
   "id": "8198c433",
   "metadata": {},
   "source": [
    "74. What is the minimum Heart_Rate_Accuracy_Percent for each Category?"
   ]
  },
  {
   "cell_type": "code",
   "execution_count": null,
   "id": "a67b6f42",
   "metadata": {},
   "outputs": [],
   "source": [
    "df.groupby('category')['heart_rate_accuracy_percent'].min()"
   ]
  },
  {
   "cell_type": "markdown",
   "id": "a820237a",
   "metadata": {},
   "source": [
    "75. Group the dataset by Brand and calculate the mean Step_Count_Accuracy_Percent."
   ]
  },
  {
   "cell_type": "code",
   "execution_count": null,
   "id": "49f897d7",
   "metadata": {},
   "outputs": [],
   "source": [
    "df.groupby('brand')['step_count_accuracy_percent'].mean()"
   ]
  },
  {
   "cell_type": "markdown",
   "id": "0040e029",
   "metadata": {},
   "source": [
    "76. Group the dataset by Category and calculate the median Sleep_Tracking_Accuracy_Percent."
   ]
  },
  {
   "cell_type": "code",
   "execution_count": null,
   "id": "ebdb60f0",
   "metadata": {},
   "outputs": [],
   "source": [
    "df.groupby('category')['sleep_tracking_accuracy_percent'].median()"
   ]
  },
  {
   "cell_type": "markdown",
   "id": "a874f039",
   "metadata": {},
   "source": [
    "77. Group the dataset by Connectivity_Features and calculate the total count of devices."
   ]
  },
  {
   "cell_type": "code",
   "execution_count": null,
   "id": "80f11be3",
   "metadata": {},
   "outputs": [],
   "source": [
    "df.groupby('connectivity_features').size()"
   ]
  },
  {
   "cell_type": "markdown",
   "id": "78599fce",
   "metadata": {},
   "source": [
    "78. Group the dataset by App_Ecosystem_Support and calculate the average Price_USD."
   ]
  },
  {
   "cell_type": "code",
   "execution_count": null,
   "id": "51bb33d1",
   "metadata": {},
   "outputs": [],
   "source": [
    "df.groupby('app_ecosystem_support')['price_usd'].mean()"
   ]
  },
  {
   "cell_type": "markdown",
   "id": "b3f0c673",
   "metadata": {},
   "source": [
    "79. Group the dataset by Water_Resistance_Rating and calculate the standard deviation of Battery_Life_Hours."
   ]
  },
  {
   "cell_type": "code",
   "execution_count": null,
   "id": "89a965bd",
   "metadata": {},
   "outputs": [],
   "source": [
    "df.groupby('water_resistance_rating')['battery_life_hours'].std()"
   ]
  },
  {
   "cell_type": "markdown",
   "id": "f12ae6a4",
   "metadata": {},
   "source": [
    "80. How would you check for duplicate rows in the dataset? Provide the code used."
   ]
  },
  {
   "cell_type": "code",
   "execution_count": null,
   "id": "9dd711ca",
   "metadata": {},
   "outputs": [],
   "source": [
    "df.duplicated().sum()"
   ]
  },
  {
   "cell_type": "markdown",
   "id": "acd00078",
   "metadata": {},
   "source": [
    "81. Remove duplicate rows from the dataset, if any, and report the number of duplicates removed. Provide the code used."
   ]
  },
  {
   "cell_type": "code",
   "execution_count": null,
   "id": "de50d4e5",
   "metadata": {},
   "outputs": [],
   "source": [
    "duplicates = df.duplicated().sum()\n",
    "df = df.drop_duplicates()\n",
    "print(f\"Removed {duplicates} duplicate rows\")"
   ]
  },
  {
   "cell_type": "markdown",
   "id": "42235a6b",
   "metadata": {},
   "source": [
    "## (I) ADVANCED ANALYSIS"
   ]
  },
  {
   "cell_type": "markdown",
   "id": "23604c73",
   "metadata": {},
   "source": [
    "82. What is the average Performance_Score for devices with Water_Resistance_Rating of SATM?"
   ]
  },
  {
   "cell_type": "code",
   "execution_count": null,
   "id": "8d69d5e6",
   "metadata": {},
   "outputs": [],
   "source": [
    "df[df['water_resistance_rating'] == 'SATM']['performance_score'].mean()"
   ]
  },
  {
   "cell_type": "markdown",
   "id": "70d08584",
   "metadata": {},
   "source": [
    "83. What is the average User_Satisfaction_Rating for devices with Connectivity_Features including Bluetooth?"
   ]
  },
  {
   "cell_type": "code",
   "execution_count": null,
   "id": "3fef808f",
   "metadata": {},
   "outputs": [],
   "source": [
    "df[df['connectivity_features'].str.contains('Bluetooth', na=False)]['user_satisfaction_rating'].mean()"
   ]
  },
  {
   "cell_type": "markdown",
   "id": "3d786d5c",
   "metadata": {},
   "source": [
    "84. Which Brand has the highest average Heart_Rate_Accuracy_Percent?"
   ]
  },
  {
   "cell_type": "code",
   "execution_count": null,
   "id": "9f0ad7c1",
   "metadata": {},
   "outputs": [],
   "source": [
    "brand_avg = df.groupby('brand')['heart_rate_accuracy_percent'].mean()\n",
    "brand_avg.idxmax()"
   ]
  },
  {
   "cell_type": "markdown",
   "id": "eb6c9343",
   "metadata": {},
   "source": [
    "85. Which Category has the lowest average Price_USD?"
   ]
  },
  {
   "cell_type": "code",
   "execution_count": null,
   "id": "9d570897",
   "metadata": {},
   "outputs": [],
   "source": [
    "category_avg = df.groupby('category')['price_usd'].mean()\n",
    "category_avg.idxmin()"
   ]
  },
  {
   "cell_type": "markdown",
   "id": "d6c57d63",
   "metadata": {},
   "source": [
    "86. Create a pivot table showing the average Performance_Score by Brand and Category. Provide the code used."
   ]
  },
  {
   "cell_type": "code",
   "execution_count": null,
   "id": "3ff96a17",
   "metadata": {},
   "outputs": [],
   "source": [
    "pd.pivot_table(df, values='performance_score', index='brand', columns='category', aggfunc='mean')"
   ]
  },
  {
   "cell_type": "markdown",
   "id": "2b8411fa",
   "metadata": {},
   "source": [
    "87. Create a pivot table showing the count of devices by Water_Resistance_Rating and App_Ecosystem_Support. Provide the code used."
   ]
  },
  {
   "cell_type": "code",
   "execution_count": null,
   "id": "71bead55",
   "metadata": {},
   "outputs": [],
   "source": [
    "pd.pivot_table(df, values='device_name', index='water_resistance_rating', columns='app_ecosystem_support', aggfunc='count')"
   ]
  },
  {
   "cell_type": "markdown",
   "id": "b5896b9c",
   "metadata": {},
   "source": [
    "88. What is the average GPS_Accuracy_Meters for devices with Health_Sensors_Count greater than 8?"
   ]
  },
  {
   "cell_type": "code",
   "execution_count": null,
   "id": "b1653ed9",
   "metadata": {},
   "outputs": [],
   "source": [
    "df[df['health_sensors_count'] > 8]['gps_accuracy_meters'].mean()"
   ]
  },
  {
   "cell_type": "markdown",
   "id": "9496f493",
   "metadata": {},
   "source": [
    "89. How many devices have a User_Satisfaction_Rating above 9.0?"
   ]
  },
  {
   "cell_type": "code",
   "execution_count": null,
   "id": "6871f6e1",
   "metadata": {},
   "outputs": [],
   "source": [
    "len(df[df['user_satisfaction_rating'] > 9.0])"
   ]
  },
  {
   "cell_type": "markdown",
   "id": "84ad0a66",
   "metadata": {},
   "source": [
    "90. What is the distribution of Health_Sensors_Count across all devices? Create a histogram to visualize it."
   ]
  },
  {
   "cell_type": "code",
   "execution_count": null,
   "id": "9e579e37",
   "metadata": {},
   "outputs": [],
   "source": [
    "sns.histplot(df['health_sensors_count'], bins=20)\n",
    "plt.title('Distribution of Health Sensors Count')\n",
    "plt.show()"
   ]
  },
  {
   "cell_type": "markdown",
   "id": "79a10363",
   "metadata": {},
   "source": [
    "91. Create a violin plot showing the distribution of Performance_Score by Category. Provide the code used."
   ]
  },
  {
   "cell_type": "code",
   "execution_count": null,
   "id": "be272707",
   "metadata": {},
   "outputs": [],
   "source": [
    "sns.violinplot(x='category', y='performance_score', data=df)\n",
    "plt.title('Performance Score Distribution by Category')\n",
    "plt.xticks(rotation=45)\n",
    "plt.show()"
   ]
  }
 ],
 "metadata": {
  "language_info": {
   "name": "python"
  }
 },
 "nbformat": 4,
 "nbformat_minor": 5
}
