{
 "cells": [
  {
   "cell_type": "code",
   "execution_count": 1,
   "id": "3339e378",
   "metadata": {},
   "outputs": [],
   "source": [
    "import pandas as pd\n",
    "import numpy as np"
   ]
  },
  {
   "cell_type": "code",
   "execution_count": 2,
   "id": "568e39fb",
   "metadata": {},
   "outputs": [],
   "source": [
    "sensor_readings = [23.5, 25.2, 26.8, 24.1, 27.3]\n",
    "threshold = 25.0"
   ]
  },
  {
   "cell_type": "code",
   "execution_count": 3,
   "id": "e9f23b0d",
   "metadata": {},
   "outputs": [],
   "source": [
    "categories = []\n",
    "counts = {\"High\": 0, \"Low\": 0}\n",
    "outliers = [] "
   ]
  },
  {
   "cell_type": "code",
   "execution_count": 4,
   "id": "9481cffb",
   "metadata": {},
   "outputs": [],
   "source": [
    "for reading in sensor_readings:\n",
    "    if reading >= threshold:\n",
    "        categories.append(\"High\")\n",
    "        counts[\"High\"] += 1\n",
    "    else:\n",
    "        categories.append(\"Low\")\n",
    "        counts[\"Low\"] += 1\n",
    "\n",
    "    if abs(reading - threshold) > 2.0:\n",
    "        outliers"
   ]
  },
  {
   "cell_type": "code",
   "execution_count": 5,
   "id": "5159bbd8",
   "metadata": {},
   "outputs": [
    {
     "name": "stdout",
     "output_type": "stream",
     "text": [
      "Categories: ['Low', 'High', 'High', 'Low', 'High']\n",
      "Counts: {'High': 3, 'Low': 2}\n",
      "Outliers (>2°C from threshold): []\n"
     ]
    }
   ],
   "source": [
    "print(\"Categories:\", categories)\n",
    "print(\"Counts:\", counts)\n",
    "print(\"Outliers (>2°C from threshold):\", outliers)"
   ]
  },
  {
   "cell_type": "code",
   "execution_count": 6,
   "id": "6f12cf09",
   "metadata": {},
   "outputs": [],
   "source": [
    "categories = [\"Electronics\", \"Clothing\", \"Electronics\", \"Books\", \"Toys\"]"
   ]
  },
  {
   "cell_type": "code",
   "execution_count": 7,
   "id": "0976a490",
   "metadata": {},
   "outputs": [],
   "source": [
    "unique_categories = set(categories)\n",
    "target_category = \"Electronics\"\n",
    "found_target = False\n",
    "count = 0\n"
   ]
  },
  {
   "cell_type": "code",
   "execution_count": null,
   "id": "49c57eaa",
   "metadata": {},
   "outputs": [],
   "source": [
    "category_list = list(unique_categories)\n",
    "index = 0\n",
    "while index < len(category_list):\n",
    "    count += 1\n",
    "if category_list[index] == target_category:\n",
    "    found_target = True\n",
    "    index += 1\n"
   ]
  },
  {
   "cell_type": "code",
   "execution_count": null,
   "id": "442bdd89",
   "metadata": {},
   "outputs": [],
   "source": [
    "print(\"Unique Categories:\", unique_categories)\n",
    "print(\"Count of Unique Categories:\", count)\n",
    "print(\"Found Electronics:\", found_target)\n"
   ]
  },
  {
   "cell_type": "code",
   "execution_count": null,
   "id": "88a64f7a",
   "metadata": {},
   "outputs": [],
   "source": [
    "def process_purchases(customers, spending_threshold=100.0):\n",
    "    \"\"\"Calculate total purchases and identify high spenders.\"\"\"\n",
    "    totals = {}\n",
    "    high_spenders = []\n",
    "\n",
    "    for customer_id, purchases in customers.items():\n",
    "        total = sum(purchases) if purchases else 0\n",
    "        totals[customer_id] = total\n",
    "\n",
    "        if total > spending_threshold:\n",
    "            high_spenders.append(customer_id)\n",
    "\n",
    "            sorted_totals = {k: totals[k] for k in sorted(totals, key=totals.get,\n",
    "            reverse=True)}\n",
    "\n",
    "            return totals, high_spenders, sorted_totals\n"
   ]
  },
  {
   "cell_type": "code",
   "execution_count": null,
   "id": "bab47911",
   "metadata": {},
   "outputs": [],
   "source": [
    "customers = {\n",
    " \"C001\": [50.0, 75.0, 25.0],\n",
    " \"C002\": [120.0, 80.0],\n",
    " \"C003\": [30.0]\n",
    " }"
   ]
  },
  {
   "cell_type": "code",
   "execution_count": null,
   "id": "63ea7635",
   "metadata": {},
   "outputs": [],
   "source": [
    "totals, high_spenders, sorted_totals = process_purchases(customers)\n",
    "print(\"Totals:\", totals)\n",
    "print(\"High Spenders (>100):\", high_spenders)\n",
    "print(\"Sorted Totals:\", sorted_totals)"
   ]
  },
  {
   "cell_type": "code",
   "execution_count": null,
   "id": "09cf700f",
   "metadata": {},
   "outputs": [],
   "source": []
  }
 ],
 "metadata": {
  "kernelspec": {
   "display_name": "Python 3",
   "language": "python",
   "name": "python3"
  },
  "language_info": {
   "codemirror_mode": {
    "name": "ipython",
    "version": 3
   },
   "file_extension": ".py",
   "mimetype": "text/x-python",
   "name": "python",
   "nbconvert_exporter": "python",
   "pygments_lexer": "ipython3",
   "version": "3.13.3"
  }
 },
 "nbformat": 4,
 "nbformat_minor": 5
}
