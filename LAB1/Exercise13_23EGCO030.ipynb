{
 "cells": [
  {
   "cell_type": "markdown",
   "id": "368311d2",
   "metadata": {},
   "source": [
    "# MONDAY, COVENANT IDORENYIN\n",
    "# 23/EG/CO/030"
   ]
  },
  {
   "cell_type": "code",
   "execution_count": 1,
   "id": "cfb41e0f",
   "metadata": {},
   "outputs": [],
   "source": [
    "temps = [22.5, 25.0, 19.8, 30.2, 28.1]\n"
   ]
  },
  {
   "cell_type": "code",
   "execution_count": 2,
   "id": "37a2a893",
   "metadata": {},
   "outputs": [
    {
     "name": "stdout",
     "output_type": "stream",
     "text": [
      "3\n"
     ]
    }
   ],
   "source": [
    "high = 0\n",
    "for temp in temps:\n",
    "    if temp >= 25:\n",
    "        high += 1\n",
    "print(high) "
   ]
  },
  {
   "cell_type": "code",
   "execution_count": 3,
   "id": "2ff13160",
   "metadata": {},
   "outputs": [
    {
     "name": "stdout",
     "output_type": "stream",
     "text": [
      "1\n"
     ]
    }
   ],
   "source": [
    "low = 0\n",
    "for temp in temps:\n",
    "    if temp < 20:\n",
    "        low += 1\n",
    "print(low)\n"
   ]
  },
  {
   "cell_type": "code",
   "execution_count": 4,
   "id": "74d8755a",
   "metadata": {},
   "outputs": [
    {
     "name": "stdout",
     "output_type": "stream",
     "text": [
      "2\n"
     ]
    }
   ],
   "source": [
    "i = 0\n",
    "outlier = 0\n",
    "while i < len(temps):\n",
    "    if temps[i] >= 28:\n",
    "        outlier += 1\n",
    "    i += 1\n",
    "print(outlier) "
   ]
  },
  {
   "cell_type": "code",
   "execution_count": 5,
   "id": "575e2619",
   "metadata": {},
   "outputs": [
    {
     "name": "stdout",
     "output_type": "stream",
     "text": [
      "27.76666666666667\n"
     ]
    }
   ],
   "source": [
    "sum_temp = 0\n",
    "count = 0\n",
    "for temp in temps:\n",
    "    if temp >= 25:\n",
    "        sum_temp += temp\n",
    "        count += 1\n",
    "if count > 0:\n",
    "    average = sum_temp / count\n",
    "print(average)"
   ]
  },
  {
   "cell_type": "code",
   "execution_count": 6,
   "id": "b7b7b85d",
   "metadata": {},
   "outputs": [
    {
     "name": "stdout",
     "output_type": "stream",
     "text": [
      "1\n"
     ]
    }
   ],
   "source": [
    "mid_range = 0\n",
    "for temp in temps:\n",
    "    if 20 <= temp < 25:\n",
    "        mid_range += 1\n",
    "print(mid_range)"
   ]
  },
  {
   "cell_type": "markdown",
   "id": "b3c696c5",
   "metadata": {},
   "source": [
    "SCENARIO 2"
   ]
  },
  {
   "cell_type": "code",
   "execution_count": 7,
   "id": "9f7747c4",
   "metadata": {},
   "outputs": [],
   "source": [
    "categories = [\"electronics\", \"clothing\", \"electronics\", \"books\"]\n"
   ]
  },
  {
   "cell_type": "code",
   "execution_count": 8,
   "id": "64327a72",
   "metadata": {},
   "outputs": [
    {
     "name": "stdout",
     "output_type": "stream",
     "text": [
      "3\n"
     ]
    }
   ],
   "source": [
    "unique = set()\n",
    "for category in categories:\n",
    "    unique.add(category)\n",
    "print(len(unique))"
   ]
  },
  {
   "cell_type": "code",
   "execution_count": 9,
   "id": "93e20389",
   "metadata": {},
   "outputs": [
    {
     "name": "stdout",
     "output_type": "stream",
     "text": [
      "2\n"
     ]
    }
   ],
   "source": [
    "i = 0\n",
    "electronics_count = 0\n",
    "while i < len(categories):\n",
    "    if categories[i] == \"electronics\":\n",
    "        electronics_count += 1\n",
    "    i += 1\n",
    "print(electronics_count)"
   ]
  },
  {
   "cell_type": "code",
   "execution_count": 10,
   "id": "aee83f93",
   "metadata": {},
   "outputs": [
    {
     "name": "stdout",
     "output_type": "stream",
     "text": [
      "4\n"
     ]
    }
   ],
   "source": [
    "count = 0\n",
    "for _ in categories:\n",
    "    count += 1\n",
    "print(count)"
   ]
  },
  {
   "cell_type": "code",
   "execution_count": 11,
   "id": "c790d2c8",
   "metadata": {},
   "outputs": [
    {
     "name": "stdout",
     "output_type": "stream",
     "text": [
      "3\n"
     ]
    }
   ],
   "source": [
    "unique_set = set()\n",
    "i = 0\n",
    "while i < len(categories):\n",
    "    unique_set.add(categories[i])\n",
    "    i += 1\n",
    "print(len(unique_set))"
   ]
  },
  {
   "cell_type": "code",
   "execution_count": 12,
   "id": "09303122",
   "metadata": {},
   "outputs": [
    {
     "name": "stdout",
     "output_type": "stream",
     "text": [
      "3\n"
     ]
    }
   ],
   "source": [
    "not_books = 0\n",
    "for category in categories:\n",
    "    if category != \"books\":\n",
    "        not_books += 1\n",
    "print(not_books)"
   ]
  },
  {
   "cell_type": "markdown",
   "id": "e1b37897",
   "metadata": {},
   "source": [
    "Scenario 3"
   ]
  },
  {
   "cell_type": "code",
   "execution_count": 13,
   "id": "e7394d32",
   "metadata": {},
   "outputs": [],
   "source": [
    "purchases = {\n",
    "    'C001': [50, 20],\n",
    "    'C002': [100, 30],\n",
    "    'C003': [10, 10]\n",
    "}\n"
   ]
  },
  {
   "cell_type": "code",
   "execution_count": 14,
   "id": "3934daaa",
   "metadata": {},
   "outputs": [
    {
     "name": "stdout",
     "output_type": "stream",
     "text": [
      "2\n"
     ]
    }
   ],
   "source": [
    "count = sum(1 for v in purchases.values() if sum(v) > 50)\n",
    "print(count)"
   ]
  },
  {
   "cell_type": "code",
   "execution_count": 15,
   "id": "dce24548",
   "metadata": {},
   "outputs": [
    {
     "name": "stdout",
     "output_type": "stream",
     "text": [
      "36.666666666666664\n"
     ]
    }
   ],
   "source": [
    "all_purchases = [amt for lst in purchases.values() for amt in lst]\n",
    "average = sum(all_purchases) / len(all_purchases)\n",
    "print(average)"
   ]
  },
  {
   "cell_type": "code",
   "execution_count": 16,
   "id": "ac2d48f6",
   "metadata": {},
   "outputs": [
    {
     "name": "stdout",
     "output_type": "stream",
     "text": [
      "1\n"
     ]
    }
   ],
   "source": [
    "count = sum(1 for lst in purchases.values() if any(amt > 50 for amt in lst))\n",
    "print(count)"
   ]
  },
  {
   "cell_type": "code",
   "execution_count": 17,
   "id": "668ff329",
   "metadata": {},
   "outputs": [
    {
     "name": "stdout",
     "output_type": "stream",
     "text": [
      "100\n"
     ]
    }
   ],
   "source": [
    "max_purchase = max(max(lst) for lst in purchases.values())\n",
    "print(max_purchase)"
   ]
  },
  {
   "cell_type": "code",
   "execution_count": 18,
   "id": "c66415e9",
   "metadata": {},
   "outputs": [
    {
     "name": "stdout",
     "output_type": "stream",
     "text": [
      "1\n"
     ]
    }
   ],
   "source": [
    "count = sum(1 for amt in purchases['C001'] if amt > 20)\n",
    "print(count)"
   ]
  }
 ],
 "metadata": {
  "kernelspec": {
   "display_name": "Python 3",
   "language": "python",
   "name": "python3"
  },
  "language_info": {
   "codemirror_mode": {
    "name": "ipython",
    "version": 3
   },
   "file_extension": ".py",
   "mimetype": "text/x-python",
   "name": "python",
   "nbconvert_exporter": "python",
   "pygments_lexer": "ipython3",
   "version": "3.13.3"
  }
 },
 "nbformat": 4,
 "nbformat_minor": 5
}
