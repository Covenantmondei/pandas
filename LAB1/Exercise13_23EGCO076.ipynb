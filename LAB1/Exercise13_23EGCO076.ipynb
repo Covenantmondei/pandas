{
 "cells": [
  {
   "cell_type": "code",
   "execution_count": 1,
   "id": "f6272222",
   "metadata": {},
   "outputs": [],
   "source": [
    "temps = [22.5, 25.0, 19.8, 30.2, 28.1]"
   ]
  },
  {
   "cell_type": "code",
   "execution_count": 2,
   "id": "7c14ec7c",
   "metadata": {},
   "outputs": [
    {
     "name": "stdout",
     "output_type": "stream",
     "text": [
      "Number of high temperatures (>= 25 degrees): 3\n"
     ]
    }
   ],
   "source": [
    "high_temps = len([temp for temp in temps if temp >= 25])\n",
    "print(\"Number of high temperatures (>= 25 degrees):\", high_temps)"
   ]
  },
  {
   "cell_type": "code",
   "execution_count": 3,
   "id": "23cf0d7f",
   "metadata": {},
   "outputs": [
    {
     "name": "stdout",
     "output_type": "stream",
     "text": [
      "Count of temperatures < 20 degrees: 0\n"
     ]
    }
   ],
   "source": [
    "low_temps_count = 0\n",
    "i = 0\n",
    "while i < len(temps) and temps[i] < 20:\n",
    "    low_temps_count += 1\n",
    "    i += 1\n",
    "print(\"Count of temperatures < 20 degrees:\", low_temps_count)"
   ]
  },
  {
   "cell_type": "code",
   "execution_count": 4,
   "id": "f9288fb8",
   "metadata": {},
   "outputs": [
    {
     "name": "stdout",
     "output_type": "stream",
     "text": [
      "Number of temperatures > 28 degrees: 0\n"
     ]
    }
   ],
   "source": [
    "above_28_count = 0\n",
    "i = 0\n",
    "while i < len(temps) and temps[i] > 28:\n",
    "    above_28_count += 1\n",
    "    i += 1\n",
    "print(\"Number of temperatures > 28 degrees:\", above_28_count)"
   ]
  },
  {
   "cell_type": "code",
   "execution_count": 5,
   "id": "df30a117",
   "metadata": {},
   "outputs": [
    {
     "name": "stdout",
     "output_type": "stream",
     "text": [
      "Average temperature for readings >= 25 degrees: 27.76666666666667\n"
     ]
    }
   ],
   "source": [
    "total_high = 0\n",
    "count_high = 0\n",
    "for temp in temps:\n",
    "    if temp >= 25:\n",
    "        total_high += temp\n",
    "        count_high += 1\n",
    "average_high = total_high / count_high if count_high > 0 else 0\n",
    "print(\"Average temperature for readings >= 25 degrees:\", average_high)"
   ]
  },
  {
   "cell_type": "code",
   "execution_count": null,
   "id": "d11f2077",
   "metadata": {},
   "outputs": [],
   "source": [
    "count = 0\n",
    "for temp in temps:\n",
    "    if 20 <= temps and temps <= 25:\n",
    "        count+=1\n",
    "print(count)"
   ]
  },
  {
   "cell_type": "code",
   "execution_count": 10,
   "id": "e26b9086",
   "metadata": {},
   "outputs": [],
   "source": [
    "categories = ['electronics', 'clothing', 'electronics', 'books']"
   ]
  },
  {
   "cell_type": "code",
   "execution_count": 11,
   "id": "71a0d82d",
   "metadata": {},
   "outputs": [
    {
     "name": "stdout",
     "output_type": "stream",
     "text": [
      "3\n"
     ]
    }
   ],
   "source": [
    "unique = set()\n",
    "for item in categories:\n",
    "    unique.add(item)\n",
    "print(len(unique))"
   ]
  },
  {
   "cell_type": "code",
   "execution_count": 12,
   "id": "551e03d3",
   "metadata": {},
   "outputs": [
    {
     "name": "stdout",
     "output_type": "stream",
     "text": [
      "0\n"
     ]
    }
   ],
   "source": [
    "count = 0\n",
    "i = 0\n",
    "while i <len(categories):\n",
    "    if categories[1] == \"electronics\":\n",
    "        count+=1\n",
    "    i+=1\n",
    "print(count)"
   ]
  },
  {
   "cell_type": "code",
   "execution_count": 13,
   "id": "3728eaba",
   "metadata": {},
   "outputs": [
    {
     "name": "stdout",
     "output_type": "stream",
     "text": [
      "4\n"
     ]
    }
   ],
   "source": [
    "count = 0\n",
    "for i in categories:\n",
    "    count+=1\n",
    "print(count)"
   ]
  },
  {
   "cell_type": "code",
   "execution_count": 14,
   "id": "5a765e07",
   "metadata": {},
   "outputs": [
    {
     "name": "stdout",
     "output_type": "stream",
     "text": [
      "3\n"
     ]
    }
   ],
   "source": [
    "unique = []\n",
    "i = 0\n",
    "while i < len(categories):\n",
    "    if categories[i] not in unique:\n",
    "        unique.append(categories[i])\n",
    "    i+=1\n",
    "print(len(unique))"
   ]
  },
  {
   "cell_type": "code",
   "execution_count": 15,
   "id": "b78203c5",
   "metadata": {},
   "outputs": [
    {
     "name": "stdout",
     "output_type": "stream",
     "text": [
      "3\n"
     ]
    }
   ],
   "source": [
    "count = 0\n",
    "for item in categories:\n",
    "    if item != \"books\":\n",
    "        count += 1\n",
    "print(count)"
   ]
  },
  {
   "cell_type": "code",
   "execution_count": 16,
   "id": "4699aa22",
   "metadata": {},
   "outputs": [],
   "source": [
    "purchases = {'C001': [50, 20], 'C002': [100, 30], 'C003': [10, 10]}"
   ]
  },
  {
   "cell_type": "code",
   "execution_count": 17,
   "id": "21fff5c5",
   "metadata": {},
   "outputs": [
    {
     "name": "stdout",
     "output_type": "stream",
     "text": [
      "1\n"
     ]
    }
   ],
   "source": [
    "def count_customers_at_50(purchases):\n",
    "    count = 0\n",
    "    for values in purchases.values():\n",
    "        if sum(values)>50:\n",
    "            count+=1\n",
    "        return count\n",
    "print(count_customers_at_50(purchases))"
   ]
  },
  {
   "cell_type": "code",
   "execution_count": 19,
   "id": "0fb63701",
   "metadata": {},
   "outputs": [
    {
     "name": "stdout",
     "output_type": "stream",
     "text": [
      "36.666666666666664\n"
     ]
    }
   ],
   "source": [
    "def avg_purchase(purchases):\n",
    "    total = 0\n",
    "    count = 0\n",
    "    for values in purchases.values():\n",
    "        total+= sum(values)\n",
    "        count+= len(values)\n",
    "    return total/count\n",
    "print(avg_purchase(purchases))"
   ]
  },
  {
   "cell_type": "code",
   "execution_count": 21,
   "id": "bd51aa65",
   "metadata": {},
   "outputs": [
    {
     "name": "stdout",
     "output_type": "stream",
     "text": [
      "0\n"
     ]
    }
   ],
   "source": [
    "def count_customers_pur_at_50(purchases):\n",
    "    count = 0\n",
    "    for values in purchases.values():\n",
    "        if any(amount >50 for amount in values):\n",
    "            count+=1\n",
    "        return count\n",
    "print(count_customers_pur_at_50(purchases))\n"
   ]
  },
  {
   "cell_type": "code",
   "execution_count": 22,
   "id": "474a6e8f",
   "metadata": {},
   "outputs": [
    {
     "name": "stdout",
     "output_type": "stream",
     "text": [
      "100\n"
     ]
    }
   ],
   "source": [
    "def max_purchase(purchases):\n",
    "    max_amt = 0\n",
    "    for values in purchases.values():\n",
    "        max_amt = max(max_amt, max(values))\n",
    "    return max_amt\n",
    "print(max_purchase(purchases))"
   ]
  },
  {
   "cell_type": "code",
   "execution_count": 23,
   "id": "dbaaa4f2",
   "metadata": {},
   "outputs": [
    {
     "name": "stdout",
     "output_type": "stream",
     "text": [
      "<function purchase_abv_20_c001 at 0x0000024463C3F2E0>\n"
     ]
    }
   ],
   "source": [
    "def purchase_abv_20_c001(purchases):\n",
    "    return sum(1 for amount in purchases[\"COO1\"] if amount > 20)\n",
    "print(purchase_abv_20_c001)"
   ]
  }
 ],
 "metadata": {
  "kernelspec": {
   "display_name": "Python 3",
   "language": "python",
   "name": "python3"
  },
  "language_info": {
   "codemirror_mode": {
    "name": "ipython",
    "version": 3
   },
   "file_extension": ".py",
   "mimetype": "text/x-python",
   "name": "python",
   "nbconvert_exporter": "python",
   "pygments_lexer": "ipython3",
   "version": "3.13.0"
  }
 },
 "nbformat": 4,
 "nbformat_minor": 5
}
