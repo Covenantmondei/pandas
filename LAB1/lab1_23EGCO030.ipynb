{
 "cells": [
  {
   "cell_type": "code",
   "execution_count": 1,
   "id": "9ec9f759",
   "metadata": {},
   "outputs": [],
   "source": [
    "import pandas, numpy"
   ]
  },
  {
   "cell_type": "code",
   "execution_count": 2,
   "id": "ef3d28bc",
   "metadata": {},
   "outputs": [],
   "source": [
    "sensor_readings = [23.5, 25.2, 26.8, 24.1, 27.3]"
   ]
  },
  {
   "cell_type": "code",
   "execution_count": 6,
   "id": "3611d51c",
   "metadata": {},
   "outputs": [
    {
     "name": "stdout",
     "output_type": "stream",
     "text": [
      "23.5\n"
     ]
    }
   ],
   "source": [
    "print(sensor_readings[0])"
   ]
  },
  {
   "cell_type": "code",
   "execution_count": 7,
   "id": "e3d5aff5",
   "metadata": {},
   "outputs": [
    {
     "data": {
      "text/plain": [
       "[25.2, 26.8, 24.1]"
      ]
     },
     "execution_count": 7,
     "metadata": {},
     "output_type": "execute_result"
    }
   ],
   "source": [
    "sensor_readings[1:4]"
   ]
  },
  {
   "cell_type": "code",
   "execution_count": 10,
   "id": "54ddfdc0",
   "metadata": {},
   "outputs": [
    {
     "name": "stdout",
     "output_type": "stream",
     "text": [
      "26.8\n"
     ]
    }
   ],
   "source": [
    "mid_index = len(sensor_readings) // 2\n",
    "middle_reading = sensor_readings[mid_index]\n",
    "print(middle_reading)"
   ]
  },
  {
   "cell_type": "code",
   "execution_count": 11,
   "id": "4ee503e8",
   "metadata": {},
   "outputs": [],
   "source": [
    "customers = {\n",
    "    \"C001\": [15, 25, 35],\n",
    "    \"C002\": [20, 30, 40],\n",
    "}"
   ]
  },
  {
   "cell_type": "code",
   "execution_count": 12,
   "id": "7f1db2c6",
   "metadata": {},
   "outputs": [],
   "source": [
    "customer_id = \"C001\"\n",
    "purchases = customers.get(customer_id, []) "
   ]
  },
  {
   "cell_type": "code",
   "execution_count": 13,
   "id": "c495c1e6",
   "metadata": {},
   "outputs": [
    {
     "name": "stdout",
     "output_type": "stream",
     "text": [
      "[15, 25, 35]\n"
     ]
    }
   ],
   "source": [
    "print(purchases)"
   ]
  },
  {
   "cell_type": "code",
   "execution_count": 14,
   "id": "460b2f93",
   "metadata": {},
   "outputs": [],
   "source": [
    "threshold = 100\n",
    "high_spenders = {cid: sum(p) for cid, p in customers.items() if sum(p) >\n",
    "threshold}\n"
   ]
  },
  {
   "cell_type": "code",
   "execution_count": 15,
   "id": "bc3d17ce",
   "metadata": {},
   "outputs": [
    {
     "name": "stdout",
     "output_type": "stream",
     "text": [
      "\n",
      "Customer Data Analysis:\n",
      "Purchases for C001: [15, 25, 35]\n",
      "High Spenders (>100): {}\n"
     ]
    }
   ],
   "source": [
    "print(\"\\nCustomer Data Analysis:\")\n",
    "print(f\"Purchases for C001: {purchases}\")\n",
    "print(f\"High Spenders (>100): {high_spenders}\")"
   ]
  },
  {
   "cell_type": "code",
   "execution_count": 16,
   "id": "7dbc4d26",
   "metadata": {},
   "outputs": [],
   "source": [
    "coordinates = [(1.0, 2.0), (-1.0, 3.0), (4.0, 5.0), (2.0, -1.0)]"
   ]
  },
  {
   "cell_type": "code",
   "execution_count": 17,
   "id": "aa3cf227",
   "metadata": {},
   "outputs": [],
   "source": [
    "first_x = coordinates[0][0]"
   ]
  },
  {
   "cell_type": "code",
   "execution_count": 18,
   "id": "7c35af32",
   "metadata": {},
   "outputs": [
    {
     "name": "stdout",
     "output_type": "stream",
     "text": [
      "1.0\n"
     ]
    }
   ],
   "source": [
    "print(first_x)"
   ]
  },
  {
   "cell_type": "code",
   "execution_count": 19,
   "id": "689614ec",
   "metadata": {},
   "outputs": [],
   "source": [
    "y_coords = [point[1] for point in coordinates]"
   ]
  },
  {
   "cell_type": "code",
   "execution_count": 20,
   "id": "f932414f",
   "metadata": {},
   "outputs": [
    {
     "name": "stdout",
     "output_type": "stream",
     "text": [
      "[2.0, 3.0, 5.0, -1.0]\n"
     ]
    }
   ],
   "source": [
    "print(y_coords)"
   ]
  },
  {
   "cell_type": "code",
   "execution_count": 21,
   "id": "16437357",
   "metadata": {},
   "outputs": [
    {
     "name": "stdout",
     "output_type": "stream",
     "text": [
      "[(1.0, 2.0), (4.0, 5.0)]\n"
     ]
    }
   ],
   "source": [
    "first_quadrant = [point for point in coordinates if point[0] > 0 and\n",
    "point[1] > 0]\n",
    "print(first_quadrant)"
   ]
  },
  {
   "cell_type": "code",
   "execution_count": 22,
   "id": "a5664ac9",
   "metadata": {},
   "outputs": [],
   "source": [
    "categories = [\"Electronics\", \"Clothing\", \"Electronics\", \"Books\", \"Toys\"]\n",
    "unique_categories = set(categories)"
   ]
  },
  {
   "cell_type": "code",
   "execution_count": 23,
   "id": "9c5648cd",
   "metadata": {},
   "outputs": [
    {
     "name": "stdout",
     "output_type": "stream",
     "text": [
      "{'Toys', 'Clothing', 'Electronics', 'Books'}\n"
     ]
    }
   ],
   "source": [
    "print(unique_categories)"
   ]
  },
  {
   "cell_type": "code",
   "execution_count": 24,
   "id": "34d624d2",
   "metadata": {},
   "outputs": [],
   "source": [
    "target_category = \"Electronics\"\n",
    "has_electronics = target_category in unique_categories\n"
   ]
  },
  {
   "cell_type": "code",
   "execution_count": null,
   "id": "4459b95f",
   "metadata": {},
   "outputs": [],
   "source": []
  }
 ],
 "metadata": {
  "kernelspec": {
   "display_name": "Python 3",
   "language": "python",
   "name": "python3"
  },
  "language_info": {
   "codemirror_mode": {
    "name": "ipython",
    "version": 3
   },
   "file_extension": ".py",
   "mimetype": "text/x-python",
   "name": "python",
   "nbconvert_exporter": "python",
   "pygments_lexer": "ipython3",
   "version": "3.13.3"
  }
 },
 "nbformat": 4,
 "nbformat_minor": 5
}
