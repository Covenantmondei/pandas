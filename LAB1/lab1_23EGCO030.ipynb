{
 "cells": [
  {
   "cell_type": "code",
   "execution_count": 1,
   "id": "9ec9f759",
   "metadata": {},
   "outputs": [],
   "source": [
    "import pandas, numpy"
   ]
  },
  {
   "cell_type": "code",
   "execution_count": 2,
   "id": "ef3d28bc",
   "metadata": {},
   "outputs": [],
   "source": [
    "sensor_readings = [23.5, 25.2, 26.8, 24.1, 27.3]"
   ]
  },
  {
   "cell_type": "code",
   "execution_count": 6,
   "id": "3611d51c",
   "metadata": {},
   "outputs": [
    {
     "name": "stdout",
     "output_type": "stream",
     "text": [
      "23.5\n"
     ]
    }
   ],
   "source": [
    "print(sensor_readings[0])"
   ]
  },
  {
   "cell_type": "code",
   "execution_count": 7,
   "id": "e3d5aff5",
   "metadata": {},
   "outputs": [
    {
     "data": {
      "text/plain": [
       "[25.2, 26.8, 24.1]"
      ]
     },
     "execution_count": 7,
     "metadata": {},
     "output_type": "execute_result"
    }
   ],
   "source": [
    "sensor_readings[1:4]"
   ]
  },
  {
   "cell_type": "code",
   "execution_count": 10,
   "id": "54ddfdc0",
   "metadata": {},
   "outputs": [
    {
     "name": "stdout",
     "output_type": "stream",
     "text": [
      "26.8\n"
     ]
    }
   ],
   "source": [
    "mid_index = len(sensor_readings) // 2\n",
    "middle_reading = sensor_readings[mid_index]\n",
    "print(middle_reading)"
   ]
  },
  {
   "cell_type": "code",
   "execution_count": 11,
   "id": "4ee503e8",
   "metadata": {},
   "outputs": [],
   "source": [
    "customers = {\n",
    "    \"C001\": [15, 25, 35],\n",
    "    \"C002\": [20, 30, 40],\n",
    "}"
   ]
  },
  {
   "cell_type": "code",
   "execution_count": null,
   "id": "7f1db2c6",
   "metadata": {},
   "outputs": [
    {
     "name": "stdout",
     "output_type": "stream",
     "text": [
      "26.8\n"
     ]
    }
   ],
   "source": []
  },
  {
   "cell_type": "code",
   "execution_count": null,
   "id": "c495c1e6",
   "metadata": {},
   "outputs": [],
   "source": []
  }
 ],
 "metadata": {
  "kernelspec": {
   "display_name": "Python 3",
   "language": "python",
   "name": "python3"
  },
  "language_info": {
   "codemirror_mode": {
    "name": "ipython",
    "version": 3
   },
   "file_extension": ".py",
   "mimetype": "text/x-python",
   "name": "python",
   "nbconvert_exporter": "python",
   "pygments_lexer": "ipython3",
   "version": "3.13.3"
  }
 },
 "nbformat": 4,
 "nbformat_minor": 5
}
