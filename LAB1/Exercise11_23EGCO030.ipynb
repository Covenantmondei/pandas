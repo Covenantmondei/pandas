{
 "cells": [
  {
   "cell_type": "markdown",
   "id": "64540246",
   "metadata": {},
   "source": [
    "# MONDAY, COVENANT IDORENYIN\n",
    "# 23/EG/CO/030"
   ]
  },
  {
   "cell_type": "markdown",
   "id": "251df440",
   "metadata": {},
   "source": [
    "1. pip = pip 25.0.1 "
   ]
  },
  {
   "cell_type": "markdown",
   "id": "d0a0e778",
   "metadata": {},
   "source": [
    "2. numpy= 2.3.0\n",
    "pandas = 2.3.0\n",
    "matplotlib = 3.10.3\n",
    "seaborn = 0.13.2\n",
    "Scikit-learn = 1.7.1\n"
   ]
  },
  {
   "cell_type": "markdown",
   "id": "2e04e4b1",
   "metadata": {},
   "source": [
    "3. 166 packages"
   ]
  },
  {
   "cell_type": "markdown",
   "id": "3d5b5381",
   "metadata": {},
   "source": [
    "4.  2.3.1"
   ]
  },
  {
   "cell_type": "markdown",
   "id": "45d64426",
   "metadata": {},
   "source": [
    "5. pip install --upgrade matplotlib"
   ]
  },
  {
   "cell_type": "markdown",
   "id": "c124bf20",
   "metadata": {},
   "source": [
    "6. pip install pandas==2.0.0"
   ]
  },
  {
   "cell_type": "markdown",
   "id": "bea47f8e",
   "metadata": {},
   "source": [
    "7. two steps are required\n",
    "python -m venv myenv\n",
    "myenv\\Scripts\\activate\n"
   ]
  },
  {
   "cell_type": "markdown",
   "id": "24fb8d5a",
   "metadata": {},
   "source": [
    "8. Python 3.13.3"
   ]
  },
  {
   "cell_type": "markdown",
   "id": "04dc4cc4",
   "metadata": {},
   "source": [
    "9. python \"import seaborn as sns; print(sns.__version__)\""
   ]
  },
  {
   "cell_type": "markdown",
   "id": "5aab6c22",
   "metadata": {},
   "source": [
    "10. pip uninstall scikit-learn"
   ]
  }
 ],
 "metadata": {
  "kernelspec": {
   "display_name": "Python 3",
   "language": "python",
   "name": "python3"
  },
  "language_info": {
   "name": "python",
   "version": "3.13.0"
  }
 },
 "nbformat": 4,
 "nbformat_minor": 5
}
