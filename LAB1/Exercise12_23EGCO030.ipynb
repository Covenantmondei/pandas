{
 "cells": [
  {
   "cell_type": "markdown",
   "id": "99d8efd5",
   "metadata": {},
   "source": [
    "# MONDAY, COVENANT IDORENYIN\n",
    "# 23/EG/CO/030"
   ]
  },
  {
   "cell_type": "code",
   "execution_count": 3,
   "id": "7446fdb9",
   "metadata": {},
   "outputs": [],
   "source": [
    "\n",
    "temps = [22.5, 25.0, 19.8, 30.2, 28.1]"
   ]
  },
  {
   "cell_type": "code",
   "execution_count": null,
   "id": "cfb6510c",
   "metadata": {},
   "outputs": [
    {
     "name": "stdout",
     "output_type": "stream",
     "text": [
      "Number of temperature readings: 5\n"
     ]
    }
   ],
   "source": [
    "print(len(temps))"
   ]
  },
  {
   "cell_type": "code",
   "execution_count": null,
   "id": "620b40b0",
   "metadata": {},
   "outputs": [
    {
     "name": "stdout",
     "output_type": "stream",
     "text": [
      "First temperature reading: 22.5\n"
     ]
    }
   ],
   "source": [
    "print(temps[0])"
   ]
  },
  {
   "cell_type": "code",
   "execution_count": null,
   "id": "662e2246",
   "metadata": {},
   "outputs": [
    {
     "name": "stdout",
     "output_type": "stream",
     "text": [
      "Temperatures above 25 degrees: 2\n"
     ]
    }
   ],
   "source": [
    "above_25 = len([temp for temp in temps if temp > 25])\n",
    "print(above_25)"
   ]
  },
  {
   "cell_type": "code",
   "execution_count": null,
   "id": "f316f55f",
   "metadata": {},
   "outputs": [
    {
     "name": "stdout",
     "output_type": "stream",
     "text": [
      "Average of non-zero temperatures: 25.119999999999997\n"
     ]
    }
   ],
   "source": [
    "non_zero = [temp for temp in temps if temp != 0] \n",
    "total = 0\n",
    "for temp in non_zero:\n",
    "    total += temp\n",
    "average = total / len(non_zero)\n",
    "print(average)"
   ]
  },
  {
   "cell_type": "code",
   "execution_count": null,
   "id": "567cf6ae",
   "metadata": {},
   "outputs": [
    {
     "name": "stdout",
     "output_type": "stream",
     "text": [
      "Last temperature reading: 28.1\n"
     ]
    }
   ],
   "source": [
    "print(temps[-1])"
   ]
  },
  {
   "cell_type": "code",
   "execution_count": 11,
   "id": "dea143ad",
   "metadata": {},
   "outputs": [],
   "source": [
    "purchases = {'C001': [50, 20], 'C002': [100, 30], 'C003': [10, 10]}"
   ]
  },
  {
   "cell_type": "code",
   "execution_count": null,
   "id": "6aff3b90",
   "metadata": {},
   "outputs": [
    {
     "name": "stdout",
     "output_type": "stream",
     "text": [
      "Number of customers: 3\n"
     ]
    }
   ],
   "source": [
    "print(len(purchases))"
   ]
  },
  {
   "cell_type": "code",
   "execution_count": null,
   "id": "8b4d1183",
   "metadata": {},
   "outputs": [
    {
     "name": "stdout",
     "output_type": "stream",
     "text": [
      "Purchase amounts for C001: [50, 20]\n"
     ]
    }
   ],
   "source": [
    "print(purchases['C001'])"
   ]
  },
  {
   "cell_type": "code",
   "execution_count": null,
   "id": "268a563f",
   "metadata": {},
   "outputs": [
    {
     "name": "stdout",
     "output_type": "stream",
     "text": [
      "Customers with total purchases above 60: 2\n"
     ]
    }
   ],
   "source": [
    "above_60 = sum(1 for customer in purchases.values() if sum(customer) > 60)\n",
    "print(above_60)"
   ]
  },
  {
   "cell_type": "code",
   "execution_count": null,
   "id": "161be83a",
   "metadata": {},
   "outputs": [
    {
     "name": "stdout",
     "output_type": "stream",
     "text": [
      "Average purchase amount for C002: 65.0\n"
     ]
    }
   ],
   "source": [
    "avg_002 = sum(purchases['C002']) / len(purchases['C002'])\n",
    "print(avg_002)"
   ]
  },
  {
   "cell_type": "code",
   "execution_count": null,
   "id": "8041b131",
   "metadata": {},
   "outputs": [
    {
     "name": "stdout",
     "output_type": "stream",
     "text": [
      "Customers with at least one purchase above 50: 1\n"
     ]
    }
   ],
   "source": [
    "above_50 = sum(1 for customer in purchases.values() if any(purchase > 50 for purchase in customer))\n",
    "print(above_50)"
   ]
  },
  {
   "cell_type": "code",
   "execution_count": 17,
   "id": "2c6c668b",
   "metadata": {},
   "outputs": [],
   "source": [
    "points = [(1, 2), (3, -1), (0, 4), (-2, 3)]\n",
    "categories = ['electronics', 'clothing', 'electronics', 'books']"
   ]
  },
  {
   "cell_type": "code",
   "execution_count": null,
   "id": "bc304609",
   "metadata": {},
   "outputs": [
    {
     "name": "stdout",
     "output_type": "stream",
     "text": [
      "Number of coordinates points: 4\n"
     ]
    }
   ],
   "source": [
    "print(len(points))"
   ]
  },
  {
   "cell_type": "code",
   "execution_count": null,
   "id": "14bbe0b6",
   "metadata": {},
   "outputs": [
    {
     "name": "stdout",
     "output_type": "stream",
     "text": [
      "X-coordinate of the first point: 1\n"
     ]
    }
   ],
   "source": [
    "print(points[0][0])"
   ]
  },
  {
   "cell_type": "code",
   "execution_count": null,
   "id": "43da836c",
   "metadata": {},
   "outputs": [
    {
     "name": "stdout",
     "output_type": "stream",
     "text": [
      "Points with y > 0: 3\n"
     ]
    }
   ],
   "source": [
    "y_positive = sum(1 for point in points if point[1] > 0)\n",
    "print(y_positive)"
   ]
  },
  {
   "cell_type": "code",
   "execution_count": null,
   "id": "afc7832a",
   "metadata": {},
   "outputs": [
    {
     "name": "stdout",
     "output_type": "stream",
     "text": [
      "Number of unique product categories: 3\n"
     ]
    }
   ],
   "source": [
    "unique_categories = len(set(categories))\n",
    "print(unique_categories)"
   ]
  },
  {
   "cell_type": "code",
   "execution_count": null,
   "id": "a467ddc2",
   "metadata": {},
   "outputs": [
    {
     "name": "stdout",
     "output_type": "stream",
     "text": [
      "Does 'books' exist in unique categories?: True\n"
     ]
    }
   ],
   "source": [
    "unique_set = set(categories)\n",
    "print('books' in unique_set)"
   ]
  }
 ],
 "metadata": {
  "kernelspec": {
   "display_name": "Python 3",
   "language": "python",
   "name": "python3"
  },
  "language_info": {
   "codemirror_mode": {
    "name": "ipython",
    "version": 3
   },
   "file_extension": ".py",
   "mimetype": "text/x-python",
   "name": "python",
   "nbconvert_exporter": "python",
   "pygments_lexer": "ipython3",
   "version": "3.13.0"
  }
 },
 "nbformat": 4,
 "nbformat_minor": 5
}
