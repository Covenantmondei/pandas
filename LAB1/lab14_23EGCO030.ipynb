{
 "cells": [
  {
   "cell_type": "code",
   "execution_count": 1,
   "id": "11f9ba2b",
   "metadata": {},
   "outputs": [],
   "source": [
    "import numpy as np"
   ]
  },
  {
   "cell_type": "code",
   "execution_count": 2,
   "id": "14977d65",
   "metadata": {},
   "outputs": [],
   "source": [
    "temps = [23.5, 25.2, 26.8, 24.1, 27.3]\n",
    "temps_array = np.array(temps)"
   ]
  },
  {
   "cell_type": "code",
   "execution_count": 3,
   "id": "3e129f78",
   "metadata": {},
   "outputs": [
    {
     "name": "stdout",
     "output_type": "stream",
     "text": [
      "[23.5 25.2 26.8 24.1 27.3]\n"
     ]
    }
   ],
   "source": [
    "print(temps_array)"
   ]
  },
  {
   "cell_type": "code",
   "execution_count": 4,
   "id": "cbb5e61f",
   "metadata": {},
   "outputs": [
    {
     "name": "stdout",
     "output_type": "stream",
     "text": [
      "(5,)\n"
     ]
    }
   ],
   "source": [
    "temps_shape = temps_array.shape\n",
    "print(temps_shape)"
   ]
  },
  {
   "cell_type": "code",
   "execution_count": 5,
   "id": "76208f90",
   "metadata": {},
   "outputs": [
    {
     "name": "stdout",
     "output_type": "stream",
     "text": [
      "1\n"
     ]
    }
   ],
   "source": [
    "temps_ndim = temps_array.ndim \n",
    "print(temps_ndim)\n"
   ]
  },
  {
   "cell_type": "code",
   "execution_count": 6,
   "id": "5ee23163",
   "metadata": {},
   "outputs": [
    {
     "name": "stdout",
     "output_type": "stream",
     "text": [
      "5\n"
     ]
    }
   ],
   "source": [
    "temps_size = temps_array.size\n",
    "print(temps_size)"
   ]
  },
  {
   "cell_type": "code",
   "execution_count": 7,
   "id": "c43cc8b2",
   "metadata": {},
   "outputs": [
    {
     "name": "stdout",
     "output_type": "stream",
     "text": [
      "float64\n"
     ]
    }
   ],
   "source": [
    "temps_dtype = temps_array.dtype\n",
    "print(temps_dtype)"
   ]
  },
  {
   "cell_type": "code",
   "execution_count": 8,
   "id": "9beca728",
   "metadata": {},
   "outputs": [
    {
     "name": "stdout",
     "output_type": "stream",
     "text": [
      "[23.5 25.2 26.8]\n"
     ]
    }
   ],
   "source": [
    "temps_slice = temps_array[:3] \n",
    "print(temps_slice)\n"
   ]
  },
  {
   "cell_type": "code",
   "execution_count": 9,
   "id": "7b002e94",
   "metadata": {},
   "outputs": [
    {
     "name": "stdout",
     "output_type": "stream",
     "text": [
      "[25.5 27.2 28.8 26.1 29.3]\n"
     ]
    }
   ],
   "source": [
    "temps_plus_2 = temps_array + 2\n",
    "print(temps_plus_2)"
   ]
  },
  {
   "cell_type": "code",
   "execution_count": 10,
   "id": "52535e99",
   "metadata": {},
   "outputs": [
    {
     "name": "stdout",
     "output_type": "stream",
     "text": [
      "[4.84767986 5.01996016 5.17687164 4.90917508 5.22494019]\n"
     ]
    }
   ],
   "source": [
    "temps_sqrt = np.sqrt(temps_array)\n",
    "print(temps_sqrt)"
   ]
  },
  {
   "cell_type": "code",
   "execution_count": 11,
   "id": "d3b6aed7",
   "metadata": {},
   "outputs": [
    {
     "name": "stdout",
     "output_type": "stream",
     "text": [
      "[552.25 635.04 718.24 580.81 745.29]\n"
     ]
    }
   ],
   "source": [
    "temps_squared = temps_array ** 2 \n",
    "print(temps_squared)"
   ]
  },
  {
   "cell_type": "code",
   "execution_count": 12,
   "id": "3e0884ef",
   "metadata": {},
   "outputs": [
    {
     "name": "stdout",
     "output_type": "stream",
     "text": [
      "[22.5 24.2 25.8 23.1 26.3]\n"
     ]
    }
   ],
   "source": [
    "temps_minus_1 = temps_array - 1\n",
    "print(temps_minus_1)"
   ]
  },
  {
   "cell_type": "code",
   "execution_count": 13,
   "id": "7db45d94",
   "metadata": {},
   "outputs": [
    {
     "name": "stdout",
     "output_type": "stream",
     "text": [
      "126.89999999999999\n"
     ]
    }
   ],
   "source": [
    "temps_sum = np.sum(temps_array)\n",
    "print(temps_sum)"
   ]
  },
  {
   "cell_type": "code",
   "execution_count": 14,
   "id": "c57b7880",
   "metadata": {},
   "outputs": [
    {
     "name": "stdout",
     "output_type": "stream",
     "text": [
      "1.4770240350109407\n"
     ]
    }
   ],
   "source": [
    "temps_std = np.std(temps_array) \n",
    "print(temps_std)\n"
   ]
  },
  {
   "cell_type": "code",
   "execution_count": 15,
   "id": "f4ed1b82",
   "metadata": {},
   "outputs": [
    {
     "name": "stdout",
     "output_type": "stream",
     "text": [
      "25.38\n"
     ]
    }
   ],
   "source": [
    "temps_mean = np.mean(temps_array)\n",
    "print(temps_mean)"
   ]
  },
  {
   "cell_type": "code",
   "execution_count": 16,
   "id": "f9fc5027",
   "metadata": {},
   "outputs": [
    {
     "name": "stdout",
     "output_type": "stream",
     "text": [
      "1.4770240350109407\n"
     ]
    }
   ],
   "source": [
    "temps_std = np.std(temps_array) \n",
    "print(temps_std)"
   ]
  },
  {
   "cell_type": "code",
   "execution_count": 17,
   "id": "6fd50a54",
   "metadata": {},
   "outputs": [
    {
     "name": "stdout",
     "output_type": "stream",
     "text": [
      "27.3\n"
     ]
    }
   ],
   "source": [
    "temps_max = np.max(temps_array) \n",
    "print(temps_max)"
   ]
  },
  {
   "cell_type": "code",
   "execution_count": 18,
   "id": "9b85152d",
   "metadata": {},
   "outputs": [
    {
     "name": "stdout",
     "output_type": "stream",
     "text": [
      "23.5\n"
     ]
    }
   ],
   "source": [
    "temps_min = np.min(temps_array) \n",
    "print(temps_min)"
   ]
  },
  {
   "cell_type": "code",
   "execution_count": 19,
   "id": "7006d3a0",
   "metadata": {},
   "outputs": [
    {
     "name": "stdout",
     "output_type": "stream",
     "text": [
      "25.2\n"
     ]
    }
   ],
   "source": [
    "temps_median = np.median(temps_array) \n",
    "print(temps_median)"
   ]
  },
  {
   "cell_type": "code",
   "execution_count": 20,
   "id": "ad0c15d2",
   "metadata": {},
   "outputs": [
    {
     "name": "stdout",
     "output_type": "stream",
     "text": [
      "[[23.5]\n",
      " [25.2]\n",
      " [26.8]\n",
      " [24.1]\n",
      " [27.3]]\n"
     ]
    }
   ],
   "source": [
    "ps_reshaped = temps_array.reshape(5, 1 )\n",
    "print(ps_reshaped)"
   ]
  },
  {
   "cell_type": "code",
   "execution_count": 21,
   "id": "97ba5cd4",
   "metadata": {},
   "outputs": [
    {
     "name": "stdout",
     "output_type": "stream",
     "text": [
      "[23.5 24.1 25.2 26.8 27.3]\n"
     ]
    }
   ],
   "source": [
    "temps_unique = np.unique(temps_array)\n",
    "print(temps_unique)"
   ]
  },
  {
   "cell_type": "code",
   "execution_count": 22,
   "id": "3e39f864",
   "metadata": {},
   "outputs": [
    {
     "name": "stdout",
     "output_type": "stream",
     "text": [
      "[23.5 24.1 25.2 26.8 27.3]\n"
     ]
    }
   ],
   "source": [
    "temps_unique = np.unique(temps_array)\n",
    "print(temps_unique)"
   ]
  },
  {
   "cell_type": "code",
   "execution_count": 23,
   "id": "0b7d5848",
   "metadata": {},
   "outputs": [
    {
     "name": "stdout",
     "output_type": "stream",
     "text": [
      "(array([1, 2, 4]),)\n"
     ]
    }
   ],
   "source": [
    "temps_where = np.where(temps_array > 25)\n",
    "print(temps_where)\n"
   ]
  },
  {
   "cell_type": "code",
   "execution_count": null,
   "id": "b2bb6505",
   "metadata": {},
   "outputs": [],
   "source": []
  }
 ],
 "metadata": {
  "kernelspec": {
   "display_name": "Python 3",
   "language": "python",
   "name": "python3"
  },
  "language_info": {
   "codemirror_mode": {
    "name": "ipython",
    "version": 3
   },
   "file_extension": ".py",
   "mimetype": "text/x-python",
   "name": "python",
   "nbconvert_exporter": "python",
   "pygments_lexer": "ipython3",
   "version": "3.13.3"
  }
 },
 "nbformat": 4,
 "nbformat_minor": 5
}
