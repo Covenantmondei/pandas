{
 "cells": [
  {
   "cell_type": "markdown",
   "id": "170f7764",
   "metadata": {},
   "source": [
    "# MONDAY, COVENANT IDORENYIN\n",
    "# 23/EG/CO/030"
   ]
  },
  {
   "cell_type": "code",
   "execution_count": 4,
   "id": "fe8822b9",
   "metadata": {},
   "outputs": [],
   "source": [
    "import pandas as pd"
   ]
  },
  {
   "cell_type": "code",
   "execution_count": 5,
   "id": "35c78f43",
   "metadata": {},
   "outputs": [],
   "source": [
    "df = pd.read_csv('datasets/student_data.csv')"
   ]
  },
  {
   "cell_type": "code",
   "execution_count": 6,
   "id": "67ce591d",
   "metadata": {},
   "outputs": [
    {
     "data": {
      "text/plain": [
       "395"
      ]
     },
     "execution_count": 6,
     "metadata": {},
     "output_type": "execute_result"
    }
   ],
   "source": [
    "df.shape[0]"
   ]
  },
  {
   "cell_type": "markdown",
   "id": "2e0a05a0",
   "metadata": {},
   "source": [
    "2."
   ]
  },
  {
   "cell_type": "code",
   "execution_count": 7,
   "id": "c19be668",
   "metadata": {},
   "outputs": [
    {
     "name": "stdout",
     "output_type": "stream",
     "text": [
      "int64\n"
     ]
    }
   ],
   "source": [
    "print(df[\"G3\"].dtype)\n"
   ]
  },
  {
   "cell_type": "code",
   "execution_count": 9,
   "id": "fc5cfca6",
   "metadata": {},
   "outputs": [],
   "source": [
    "df = pd.read_csv(\"datasets/student_data.csv\", na_values=['NA', '?'])"
   ]
  },
  {
   "cell_type": "code",
   "execution_count": 11,
   "id": "590c7f20",
   "metadata": {},
   "outputs": [
    {
     "name": "stdout",
     "output_type": "stream",
     "text": [
      "object\n",
      "object\n"
     ]
    }
   ],
   "source": [
    "print(df[\"Mjob\"].dtype)\n",
    "print(df[\"Fjob\"].dtype)\n"
   ]
  },
  {
   "cell_type": "code",
   "execution_count": 12,
   "id": "98752045",
   "metadata": {},
   "outputs": [
    {
     "name": "stdout",
     "output_type": "stream",
     "text": [
      "category\n"
     ]
    }
   ],
   "source": [
    "df[\"Mjob\"] = df[\"Mjob\"].astype(\"category\")\n",
    "df[\"Fjob\"] = df[\"Fjob\"].astype(\"category\")\n",
    "\n",
    "print(df[\"Mjob\"].dtype)  # should return 'category'\n"
   ]
  }
 ],
 "metadata": {
  "kernelspec": {
   "display_name": "Python 3",
   "language": "python",
   "name": "python3"
  },
  "language_info": {
   "codemirror_mode": {
    "name": "ipython",
    "version": 3
   },
   "file_extension": ".py",
   "mimetype": "text/x-python",
   "name": "python",
   "nbconvert_exporter": "python",
   "pygments_lexer": "ipython3",
   "version": "3.13.3"
  }
 },
 "nbformat": 4,
 "nbformat_minor": 5
}
