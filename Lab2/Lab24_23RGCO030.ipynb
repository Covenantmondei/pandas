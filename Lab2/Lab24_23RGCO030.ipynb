{
 "cells": [
  {
   "cell_type": "code",
   "execution_count": 1,
   "id": "57f5a4f5",
   "metadata": {},
   "outputs": [],
   "source": [
    "import pandas as pd"
   ]
  },
  {
   "cell_type": "code",
   "execution_count": 2,
   "id": "e7ecab42",
   "metadata": {},
   "outputs": [],
   "source": [
    "df = pd.read_csv(\"datasets/Social_Network_Ads.csv\")"
   ]
  },
  {
   "cell_type": "code",
   "execution_count": null,
   "id": "4785efc9",
   "metadata": {},
   "outputs": [],
   "source": [
    "df.to_csv(\"datasets/New_Social_Network_Ads_Data.csv\", index=False)"
   ]
  },
  {
   "cell_type": "code",
   "execution_count": 4,
   "id": "a693a5d2",
   "metadata": {},
   "outputs": [],
   "source": [
    "df.to_excel(\n",
    "    \"New_Social_Network_Ads_Data.xlsx\",\n",
    "    sheet_name=\"AdsData\",\n",
    "    index=False\n",
    ")\n"
   ]
  },
  {
   "cell_type": "code",
   "execution_count": 6,
   "id": "80d95aa5",
   "metadata": {},
   "outputs": [],
   "source": [
    "with pd.ExcelWriter(\"Multiple_Social_Network_Ads_Data.xlsx\") as writer:\n",
    "    df.to_excel(writer, sheet_name=\"Sheet1\", index=False)\n",
    "    df.to_excel(writer, sheet_name=\"Sheet2\", index=False)\n"
   ]
  },
  {
   "cell_type": "code",
   "execution_count": null,
   "id": "b387e35c",
   "metadata": {},
   "outputs": [],
   "source": [
    "df.to_json(\"datasets/New_Social_Network_Ads_Data.json\", orient=\"records\", lines=True)"
   ]
  },
  {
   "cell_type": "code",
   "execution_count": null,
   "id": "d275a792",
   "metadata": {},
   "outputs": [],
   "source": [
    "df.to_csv(\"datasets/Indexed_Social_Network_Ads_Data.csv\", index=True)"
   ]
  },
  {
   "cell_type": "code",
   "execution_count": null,
   "id": "101f05da",
   "metadata": {},
   "outputs": [],
   "source": [
    "df.to_csv(\"datasets/NoIndex_Social_Network_Ads_Data.csv\", index=False) #Includes index"
   ]
  },
  {
   "cell_type": "code",
   "execution_count": 10,
   "id": "5b0ffce3",
   "metadata": {},
   "outputs": [],
   "source": [
    "df.to_csv(\"NoIndex_Social_Network_Ads_Data.csv\", index=False) #Excludes index"
   ]
  },
  {
   "cell_type": "code",
   "execution_count": 11,
   "id": "1d84ded6",
   "metadata": {},
   "outputs": [],
   "source": [
    "# Saving Intermediate Outputs\n",
    "df_cleaned = df.drop_duplicates()\n",
    "df_cleaned.to_csv(\"Cleaned_Social_Network_Ads_Data.csv\", index=False)\n",
    "df_transformed = df_cleaned[df_cleaned['Age'] > 40]\n",
    "df_transformed.to_excel(\"Filtered_Social_Network_Ads_Data.xlsx\", index=False)"
   ]
  },
  {
   "cell_type": "code",
   "execution_count": null,
   "id": "37388340",
   "metadata": {},
   "outputs": [],
   "source": []
  }
 ],
 "metadata": {
  "kernelspec": {
   "display_name": "Python 3",
   "language": "python",
   "name": "python3"
  },
  "language_info": {
   "codemirror_mode": {
    "name": "ipython",
    "version": 3
   },
   "file_extension": ".py",
   "mimetype": "text/x-python",
   "name": "python",
   "nbconvert_exporter": "python",
   "pygments_lexer": "ipython3",
   "version": "3.13.3"
  }
 },
 "nbformat": 4,
 "nbformat_minor": 5
}
